{
 "cells": [
  {
   "cell_type": "markdown",
   "metadata": {},
   "source": [
    "# Simulating a Magnetic Lens in a Scanning Electron Microscope\n",
    "__Agustin Garcia Flores*, Michael Reaves, & Guillermo Velez Bustamante__  \n",
    "**PHY432: Computational Methods in Physics**  \n",
    "**Dr. Oliver Beckstein**\n",
    "$\\newcommand{\\br}[1]{\\left[#1\\right]}\n",
    "\\newcommand{\\pa}[1]{\\left(#1\\right)}\n",
    "\\newcommand{\\cb}[1]{\\left\\{#1\\right\\}}$"
   ]
  },
  {
   "cell_type": "markdown",
   "metadata": {},
   "source": [
    "<p style=\"text-align: center; padding-left: 10%; padding-right: 10%;\">\n",
    "<b>Abstract:</b> \n",
    "This project aimed to simulate the magnetic lens component of a scanning electron microscope (SEM), crucial for focusing an electron beam to achieve high-resolution imaging. Utilizing computational methods, we developed a simulation model to study the magnetic field's behavior within the lens and its impact on electron trajectories. The project involved deriving the expressions for radial and longitudinal magnetic field components in cylindrical coordinates, implementing these equations to simulate the lens's focusing action, and analyzing the effects of varying the lens parameters. Our findings underscore the significance of the magnetic lens in SEM operation, demonstrating how its geometry and magnetic field strength dictate the beam's focus and resolution. This simulation offers valuable insights into the design and optimization of magnetic lenses in SEMs and potentially other electron-beam instruments, contributing to the advancement of microscopic imaging technologies.\n",
    "</p>"
   ]
  },
  {
   "cell_type": "markdown",
   "metadata": {},
   "source": [
    "## 0. Introduction\n",
    "This project involves simulating a major component of a scanning electron microscope (SEM). Simulations of this type are common in the creation of such instruments; similar ideas apply to the construction of particle accelerators and X-ray sources. Due to time constraints, this project will only look at one of the major components: the magnetic lens."
   ]
  },
  {
   "cell_type": "markdown",
   "metadata": {},
   "source": [
    "### 0.1 Scanning Electron Microscope (SEM)\n",
    "A scanning electron microscope employs an electron source to create a narrow beam of electrons that scans over a sample and analyzes the interaction of the beam with the substance (Figure 1). It is a flexible tool for characterizing and analyzing solid microstructures.  \n",
    "  \n",
    "The electron gun generates electrons and accelerates them to typical beam energies ranging from 0.2 to 40 keV. A heated tungsten filament emits electrons, which are focused to a 100 $\\mu\\hspace{-0.08cm}$ m diameter point using a biasing cylinder and accelerated by an anode. Electrons move in a vacuum to prevent particle interference with the electron beam.  \n",
    "  \n",
    "The condenser lens is an electromagnetic lens that demagnifies the beam point and narrows it down to 50-200 nm. As an example, we'll look at a solenoid as a magnetic lens.  \n",
    "  \n",
    "The objective lens is another electromagnetic lens that focuses the beam to a final spot size of around 5 nm. The beam is raster scanned across the sample using the scanning coils. The beam electrons interact with the material, resulting in secondary electrons that are detected by the detector, which is linked to imaging electronics.  \n",
    "\n",
    "<figure style=\"text-align: center;\">\n",
    "    <img src=\"../Work/JEOL_SEM.png\" alt=\"This is an image of an SEM.\" style=\"width: 50%; min-width: 30em;\">\n",
    "    <figcaption><b>Figure 1.</b> Structure of an SEM. On the left we see the optical microscope, and on the right is the SEM. Source: <a href=\"https://www.manualslib.com/manual/37014/Jeol-Jsm-6060lv.html?page=4#manual\">JEOL JSM-6060LV Operating Instructions Manual</a>.</figcaption>\n",
    "</figure>"
   ]
  },
  {
   "cell_type": "markdown",
   "metadata": {},
   "source": [
    "### 0.2 Magnetic Field in Cylindrical Coordinates\n",
    "The SEM and electron beam are both cylindrical in shape, with all components being axially symmetric. To discuss electric and magnetic fields, we use cylindrical coordinates $(r, \\phi, z)$ with the beam direction along the positive z-axis. Recall that the cylindrical unit vectors are\n",
    "\n",
    "\\begin{align*}\n",
    "    \\hat{\\mathbf{e}}_r(x,y,z) &= \\frac{1}{\\sqrt{x^2+y^2}}\\begin{pmatrix} x \\\\ y \\\\ 0 \\end{pmatrix} = \\begin{pmatrix} \\cos\\phi \\\\ \\sin\\phi \\\\ 0 \\end{pmatrix}, \\\\\n",
    "    \\hat{\\mathbf{e}}_\\phi(x,y,z) &= \\frac{1}{\\sqrt{x^2+y^2}}\\begin{pmatrix} -y \\\\ x \\\\ 0 \\end{pmatrix} = \\begin{pmatrix} -\\sin\\phi \\\\ \\cos\\phi \\\\ 0 \\end{pmatrix}, ~ \\& \\\\\n",
    "    \\hat{\\mathbf{e}}_z(x,y,z) &= \\begin{pmatrix} 0 \\\\ 0 \\\\ 1 \\end{pmatrix}.\n",
    "\\end{align*}\n",
    "\n",
    "If the magnetic field, $\\mathbf{B}$, is analyzed in terms of its radial and longitudinal components, $B_r$ and $B_z$, respectively, one can write $\\mathbf{B}$ as\n",
    "\n",
    "\\begin{equation}\n",
    "    \\tag{0}\n",
    "    \\mathbf{B} = B_r\\hat{\\mathbf{e}}_r + B_z\\hat{\\mathbf{e}}_z,\n",
    "\\end{equation}\n",
    "\n",
    "note that the azimuthal component, $B_\\phi$, vanished due to rotational symmetry.  \n",
    "  \n",
    "If $B_r$ and $B_z$ are given, the same quantity can be evaluated in Cartesian coordinates,\n",
    "\n",
    "$$\\mathbf{B}(x,y,z) = B_r\\left(r(x,y), z\\right)\\hat{\\mathbf{e}}_r(x,y,z) + B_z(z)\\hat{\\mathbf{e}}_z,$$\n",
    "\n",
    "where $r(x,y) = \\sqrt{x^2+y^2}$."
   ]
  },
  {
   "cell_type": "markdown",
   "metadata": {},
   "source": [
    "### 0.3 Solenoid as a Magnetic Lens\n",
    "A solenoid is made up of a conducting coil that has been tightly coiled into a helix of length $L$ and radius $R$. A magnetic field $\\mathbf{B}$ is generated when an electrical current $I$ flows through the $N$ coils. The ideal infinite solenoid (with winding density $n = N/L$) produces a constant field\n",
    "\n",
    "$$B_0 = \\mu_0nI$$\n",
    "\n",
    "inside. Feasible solenoids have a finite length $L$ and a variable magnetic field at the entry and exit, known as the fringe field. The inhomogeneity in the field can be utilized for solenoidal focusing, where the solenoid acts as a magnetic lens for a particle beam ([Kumar, 2009](#references)).  \n",
    "  \n",
    "Along the $z$-axis, the expression for the $z$ component of the magnetic field of the solenoid is\n",
    "\n",
    "\\begin{equation}\n",
    "    \\tag{1}\n",
    "    B_z(z) = \\frac{1}{2}B_0\\left[\\cos\\phi_1(z) - \\cos\\phi_2(z)\\right]\n",
    "\\end{equation}\n",
    "\n",
    "where\n",
    "\n",
    "\\begin{equation}\n",
    "    \\tag{2}\n",
    "    \\cos\\phi_i(z) = \\frac{z-z_i}{\\sqrt{(z-z_i)^2 + R^2}}\n",
    "\\end{equation}\n",
    "\n",
    "are the angles that a point on the $z$ axis makes with the coil at the beginning of the solenoid, $z_1$, and at the end of the solenoid, $z_2$. Note that $z_2 - z_1 = L$, as sign in the figure below:\n",
    "\n",
    "<figure style=\"text-align: center;\">\n",
    "    <img src=\"../Work/solenoid.png\" alt=\"Image of a solenoid\" style=\"width: 50%; min-width: 30em;\">\n",
    "    <figcaption><b>Figure 2.</b> A solenoid with the definition of the angles.\n",
    "    </figcaption>\n",
    "</figure>\n",
    "\n",
    "The radial component of the solenoid field is\n",
    "\n",
    "$$B_r(r,z) = -\\frac{r}{2}B^\\prime_z(z) = -\\frac{r}{2}\\frac{dB_z}{dz}.$$\n",
    "\n",
    "From equations (1) and (2), we can then see that\n",
    "\n",
    "\\begin{align*}\n",
    "    B_r(r,z) &= -\\frac{r}{2}\\frac{dB_z}{dz} \\\\\n",
    "    &= -\\frac{r}{2}\\frac{d}{dz}\\cb{\\frac{1}{2}B_0\\br{\\cos\\phi_1(z) - \\cos\\phi_2(z)}}, \\text{ from equation (1)} \\\\\n",
    "    &= -\\frac{rB_0}{4}\\frac{d}{dz}\\cb{\\frac{z-z_1}{\\sqrt{\\pa{z-z_1}^2 + R^2}} - \\frac{z-z_2}{\\sqrt{\\pa{z-z_2}^2 + R^2}}}, \\text{ from equation (2)} \\\\\n",
    "    &= -\\frac{rB_0}{4}\\frac{d}{dz}\\cb{\\pa{z-z_1}\\br{\\pa{z-z_1}^2 + R^2}^{-1/2} - \\pa{z-z_2}\\br{\\pa{z-z_2}^2 + R^2}^{-1/2}} \\\\\n",
    "    &= -\\frac{rB_0}{4}\\cb{\\frac{1}{\\br{\\pa{z-z_1}^2 + R^2}^{1/2}} - \\frac{\\pa{z-z_1}^2}{\\br{\\pa{z-z_1}^2 + R^2}^{3/2}} - \\frac{1}{\\br{\\pa{z-z_2}^2 + R^2}^{1/2}} + \\frac{(z-z_2)^2}{\\br{\\pa{z-z_2}^2 + R^2}^{3/2}}} \\\\\n",
    "    &= -\\frac{rB_0}{4}\\cb{\\frac{\\br{\\pa{z-z_1}^2 + R^2} - \\pa{z-z_1}^2}{\\br{\\pa{z-z_1}^2 + R^2}^{3/2}} + \\frac{\\pa{z-z_2}^2 - \\br{\\pa{z-z_2}^2 + R^2}}{\\br{\\pa{z-z_2}^2 + R^2}^{3/2}}} \\\\\n",
    "    &= -\\frac{rB_0}{4}\\cb{\\frac{R^2}{\\br{\\pa{z-z_1}^2 + R^2}^{3/2}} - \\frac{R^2}{\\br{\\pa{z-z_2}^2 + R^2}^{3/2}}},\n",
    "\\end{align*}\n",
    "\n",
    "so\n",
    "\n",
    "\\begin{equation}\n",
    "    \\tag{3}\n",
    "    \\boxed{B_r\\pa{r,z} = \\frac{rB_0R^2}{4}\\cb{\\frac{1}{\\br{\\pa{z-z_2}^2 + R^2}^{3/2}} - \\frac{1}{\\br{\\pa{z-z_1}^2 + R^2}^{3/2}}}.}\n",
    "\\end{equation}\n",
    "\n",
    "The ideal, infinite solenoid's $\\mathbf{B}$-field is constant along the axis $\\pa{B_z^\\prime (z) = 0}$, thus with no radial component. However, the field of the finite solenoid does not disappear everywhere. It varies near the ends ($z_1$ and $z_2$) and vanishes within the coil's constant and homogenous region $\\pa{B_z}$. Inhomogeneous $B_r$ changes the course of electrons that do not enter on the axis. The solenoid can operate as a magnetic lens by focusing electrons into a narrow region at a specific focal length $f$ ([Kumar, 2009](#references))."
   ]
  },
  {
   "cell_type": "markdown",
   "metadata": {},
   "source": [
    "### 0.4 Lorentz Force\n",
    "A particle with charge $q$ experiences the Lorentz force,\n",
    "\n",
    "$$\\mathbf{F}_L = q\\pa{\\mathbf{v}\\times\\mathbf{B}\\pa{\\mathbf{r}} + \\mathbf{E}\\pa{\\mathbf{r}}}$$\n",
    "\n",
    "when moving with velocity $\\mathbf{V}$ in a magnetic field $\\mathbf{B}$ and electric field $\\mathbf{E}$. The equations of motion of an electron are then\n",
    "\n",
    "$$\\frac{d^2\\mathbf{r}}{dt^2} = m_e^{-1}\\mathbf{F}_L\\pa{\\mathbf{r}, \\mathbf{v}}$$\n",
    "\n",
    "for the position $\\mathbf{r}$ and velocity $\\mathbf{v}$."
   ]
  },
  {
   "cell_type": "markdown",
   "metadata": {},
   "source": [
    "### 0.5 Useful Constants and Units\n",
    "Finally, we include a table below with useful constants for the project, their symbol, value, and SI unit.\n",
    "\n",
    "| Constant                   | Symbol       | Value                                   | SI unit           |\n",
    "| :------------------------- | :----------- | --------------------------------------: | :---------------- |\n",
    "| Speed of light (in vacuum) | $c$          | $\\text{299 792 458}$                    | $\\text{m s}^{-1}$ | \n",
    "| Electron charge            | $e$          | $\\text{1.602 176 634}\\times 10^{-19}$   | $\\text{A s}$      |\n",
    "| Electron mass              | $m_e$        | $\\text{9.109 383 701 5}\\times 10^{-31}$ | $\\text{kg}$       |\n",
    "| Magnetic constant          | $\\mu_0$      | $\\text{1.256 637 062 12}\\times 10^{-6}$ | $\\text{N A}^{-2}$ |\n",
    "| Electric constant          | $\\epsilon_0$ | $\\text{8.854 187 812 8}\\times 10^{-12}$ | $\\text{F m}^{-1}$ |\n",
    "\n",
    "**Table 1.** Useful constants and units. Souce: [NIST Reference on Constants, Units, and Uncertainty](https://physics.nist.gov/cuu/Constants/index.html).\n",
    "\n",
    "Where $\\text{m} :=$ meter (for length), $\\text{s} :=$ second (for time), $\\text{A} :=$ ampere (for electric current), $\\text{kg} :=$ kilogram (for mass), $\\text{N} :=$ newton (for force), and $\\text{F} :=$ farad (for electric capacitance).  \n",
    "  \n",
    "Note, the unit for the magnetic flux density, i.e. the \"magnetic field\" $\\mathbf{B}$, is Tesla $\\text{T}$ or $\\text{kg.s}^{-2}\\text{.A}^{-1}$. The unit of the electric field $\\mathbf{E}$ is $\\text{v.m}^{-1}$."
   ]
  },
  {
   "cell_type": "markdown",
   "metadata": {},
   "source": [
    "## 1. Methods\n",
    "In this section, we go through the required objectives of the project. We include our code and any necessary background information, such as the following table.\n",
    "\n",
    "| Quantity             | Symbol       | Value             | Unit              |\n",
    "| :------------------- | :----------- | ----------------: | :---------------- |\n",
    "| Initial velocity     | $v_0$        | $0.06c$           | $\\text{m s}^{-1}$ | \n",
    "| Initial $z$ position | $z_0$        | $-0.3$            | $\\text{m}$        |\n",
    "| Lens length          | $L$          | $0.2$             | $\\text{m}$        |\n",
    "| Lens radius          | $R$          | $0.1$             | $\\text{m}$        |\n",
    "| Lens magnetic field  | $B_0$        | $1\\times 10^{-3}$ | $\\text{T}$        |\n",
    "| Lens opening $z$     | $z_1$        | $0$               | $\\text{m}$        |\n",
    "\n",
    "**Table 2.** Minimal parameters for magnetic lens simulations."
   ]
  },
  {
   "cell_type": "code",
   "execution_count": 1,
   "metadata": {},
   "outputs": [],
   "source": [
    "import numpy as np\n",
    "import matplotlib.pyplot as plt"
   ]
  },
  {
   "cell_type": "markdown",
   "metadata": {},
   "source": [
    "### 1.1 Required objectives\n",
    "#### 1.\n",
    "An expression for $B_r$ has already been derived as equation (3) in section [0.3 Solenoid as a Magnetic Lens](###0.3-Solenoid-as-a-Magnetic-Lens), the result was\n",
    "\n",
    "$$B_r\\pa{r,z} = \\frac{rB_0R^2}{4}\\cb{\\frac{1}{\\br{\\pa{z-z_2}^2 + R^2}^{3/2}} - \\frac{1}{\\br{\\pa{z-z_1}^2 + R^2}^{3/2}}}.$$\n",
    "\n",
    "#### 2.\n",
    "Recall, from equations (1) and (2),\n",
    "\n",
    "$$B_z(z) = \\frac{1}{2}B_0\\left[\\cos\\phi_1(z) - \\cos\\phi_2(z)\\right]$$\n",
    "\n",
    "where\n",
    "\n",
    "$$\\cos\\phi_i(z) = \\frac{z-z_i}{\\sqrt{(z-z_i)^2 + R^2}},$$\n",
    "\n",
    "so\n",
    "\n",
    "$$\\frac{B_z(z)}{B_0} = \\frac{1}{2}\\br{\\frac{z-z_1}{\\sqrt{(z-z_1)^2 + R^2}} - \\frac{z-z_2}{\\sqrt{(z-z_2)^2 + R^2}}}.$$\n",
    "\n",
    "From [Table 2](#1-methods), we know that the lens opening, $z_1$, is $0$ m, the length of the lens, $L$, is $0.2$ m, the lens radius, $R$, is $0.1$ m, and the initial $z$ position is $-0.3$ m. From the geometry of the system, as seen in [Figure 2](###0.3-Solenoid-as-a-Magnetic-Lens), we can find the value of $z_2$ by $z_2 - z_1 = L \\Rightarrow z_2 = z_1 + L = 0.2$ m. Thus,\n",
    "\n",
    "$$\\frac{B_z(z)}{B_0} = \\frac{1}{2}\\br{\\frac{z}{\\sqrt{z^2 + 0.1^2}} - \\frac{z-0.2}{\\sqrt{(z-0.2)^2 + 0.1^2}}}.$$\n",
    "\n",
    "We can now create a function, `Bz_B0`, that plots this expression for different values of $z$."
   ]
  },
  {
   "cell_type": "code",
   "execution_count": 2,
   "metadata": {},
   "outputs": [],
   "source": [
    "def Bz_B0(z, z1, z2, R):\n",
    "    return 0.5 * (((z - z1) / np.sqrt((z-z1)**2 + R**2)) - ((z-z2) / np.sqrt((z-z2)**2 + R**2)))"
   ]
  },
  {
   "cell_type": "markdown",
   "metadata": {},
   "source": [
    "Now defining the variables as those defined in the table and plotting $B_z(z)/B_0$,"
   ]
  },
  {
   "cell_type": "code",
   "execution_count": 3,
   "metadata": {},
   "outputs": [],
   "source": [
    "%%capture\n",
    "z0 = -0.3       # Initial z position (m)\n",
    "z1 = 0          # Lens opening (m)\n",
    "L0 = 0.2        # Lens length (m)\n",
    "R0 = 0.1        # Lens radius (m)\n",
    "z2 = z1 + L0    # Lens ending (m)\n",
    "\n",
    "dz = 0.01        # m\n",
    "\n",
    "z = np.arange(z0, 1, dz)    # Array for simulation (m)\n",
    "\n",
    "Bz = Bz_B0(z, z1, z2, R0)   # Computing B_z/B_0 for z array (1)\n",
    "\n",
    "# Plotting results\n",
    "plt.plot(z, Bz, label=r'$\\frac{B_z(z)}{B_0}$')\n",
    "\n",
    "plt.axvline(x=z1, color='dimgray', linestyle='--', label=r'$z_1$')\n",
    "plt.axvline(x=z2, color='darkgray', linestyle='--', label=r'$z_2$')\n",
    "\n",
    "plt.text(z1, 0, r'$z_1$', ha='right', va='bottom', fontsize=12)\n",
    "plt.text(z2, 0, r'$z_2$', ha='right', va='bottom', fontsize=12)\n",
    "\n",
    "plt.xlabel(r'$z$ Position (m)')\n",
    "plt.ylabel(r'$B_z(z)/B_0$ (1)')\n",
    "plt.title(fr'Plot of $B_z(z)/B_0$ for $L$ = {L0} and $R$ = {R0}')\n",
    "\n",
    "plt.legend()\n",
    "plt.savefig('2a_table_parameters')"
   ]
  },
  {
   "cell_type": "markdown",
   "metadata": {},
   "source": [
    "We can then repeat this process for another lens with $L = 0.75$ m and $R = 0.05$ m."
   ]
  },
  {
   "cell_type": "code",
   "execution_count": 4,
   "metadata": {},
   "outputs": [],
   "source": [
    "%%capture\n",
    "# z0, z1, dz, and z remain unchanged\n",
    "L1 = 0.75       # Lens length (m)\n",
    "R1 = 0.05       # Lens radius (m)\n",
    "z2 = z1 + L1    # Lens ending (m)\n",
    "\n",
    "Bz1 = Bz_B0(z, z1, z2, R1)  # Computing B_z/B_0 for z array (1)\n",
    "\n",
    "# Plotting results\n",
    "plt.plot(z, Bz1, label=r'$\\frac{B_z(z)}{B_0}$')\n",
    "\n",
    "plt.axvline(x=z1, color='dimgray', linestyle='--', label=r'$z_1$')\n",
    "plt.axvline(x=z2, color='darkgray', linestyle='--', label=r'$z_2$')\n",
    "\n",
    "plt.text(z1, 0, r'$z_1$', ha='right', va='bottom', fontsize=12)\n",
    "plt.text(z2, 0, r'$z_2$', ha='right', va='bottom', fontsize=12)\n",
    "\n",
    "plt.xlabel(r'$z$ Position (m)')\n",
    "plt.ylabel(r'$B_z(z)/B_0$ (1)')\n",
    "plt.title(fr'Plot of $B_z(z)/B_0$ for $L$ = {L1} and $R$ = {R1}')\n",
    "\n",
    "plt.legend()\n",
    "plt.savefig('2b_given_parameters')"
   ]
  },
  {
   "cell_type": "markdown",
   "metadata": {},
   "source": [
    "#### 3.\n",
    "From [Equation (3)](###03-solenoid-as-a-magnetic-lens), we can conclude that\n",
    "\n",
    "$$\\frac{B_r\\pa{r,z}}{B_0} = \\frac{rR^2}{4}\\cb{\\frac{1}{\\br{\\pa{z-z_2}^2 + R^2}^{3/2}} - \\frac{1}{\\br{\\pa{z-z_1}^2 + R^2}^{3/2}}}.$$\n",
    "\n",
    "We can plot this, using the same array we've been using for $z$, for different values of $0\\leq r\\leq R$. We start by defining a function, `Br_B0`, which computes this function for parameters $z$, $z_1$, $z_2$, $r$, and $R$."
   ]
  },
  {
   "cell_type": "code",
   "execution_count": 5,
   "metadata": {},
   "outputs": [],
   "source": [
    "def Br_B0(z, z1, z2, r, R):\n",
    "    return (0.25 * r * R**2) * (((z-z2)**2 + R**2)**(-3/2) - ((z-z1)**2 + R**2)**(-3/2))"
   ]
  },
  {
   "cell_type": "code",
   "execution_count": 6,
   "metadata": {},
   "outputs": [
    {
     "data": {
      "text/plain": [
       "0.007227492812288475"
      ]
     },
     "execution_count": 6,
     "metadata": {},
     "output_type": "execute_result"
    }
   ],
   "source": [
    "Br_B0(4, 1, 2, 0.5, 1)"
   ]
  },
  {
   "cell_type": "markdown",
   "metadata": {},
   "source": [
    "Now defining the variables necessary for the simulation."
   ]
  },
  {
   "cell_type": "code",
   "execution_count": 7,
   "metadata": {},
   "outputs": [],
   "source": [
    "%%capture\n",
    "# Reusing the values for z0, z1, L0, R0, dz, and z\n",
    "z2 = z1 + L0    # Lens ending (m)\n",
    "\n",
    "r = np.linspace(0, R0, 5)   # Radial distance from z (m)\n",
    "\n",
    "# Computing Br/B0 for varying values of z and r\n",
    "Br = [Br_B0(z, z1, z2, r_val, R0) for r_val in r]\n",
    "\n",
    "# Plotting result\n",
    "plt.figure(figsize=(6.4,4.8))\n",
    "for i, r_val in enumerate(r):\n",
    "    plt.plot(z, Br[i], label=fr'$r$ = {r_val:.2f} m')\n",
    "\n",
    "plt.axvline(x=z1, color='dimgray', linestyle='--', label=r'$z_1$')\n",
    "plt.axvline(x=z2, color='darkgray', linestyle='--', label=r'$z_2$')\n",
    "\n",
    "plt.text(z1, 0, r'$z_1$', ha='right', va='bottom', fontsize=12)\n",
    "plt.text(z2, 0, r'$z_2$', ha='right', va='bottom', fontsize=12)\n",
    "\n",
    "plt.xlabel(r'$z$ Position (m)')\n",
    "plt.ylabel(r'$B_r(r,z)/B_0$ (1)')\n",
    "plt.title(fr'Plot of $B_r(r,z)/B_0$ for $L$ = {L0} and $R$ = {R0}')\n",
    "\n",
    "plt.legend()\n",
    "plt.savefig('3a_table_parameters')"
   ]
  },
  {
   "cell_type": "markdown",
   "metadata": {},
   "source": [
    "We can repeat this process for another lens with $L = 0.75$ and $R = 0.05$ m."
   ]
  },
  {
   "cell_type": "code",
   "execution_count": 8,
   "metadata": {},
   "outputs": [],
   "source": [
    "%%capture\n",
    "# Reusing the values for z0, z1, L1, R1, dz, and z\n",
    "z2 = z1 + L1    # Lens ending (m)\n",
    "\n",
    "r = np.linspace(0, R1, 5)   # Radial distance from z (m)\n",
    "\n",
    "# Computing Br/B0 for varying values of z and r\n",
    "Br1 = [Br_B0(z, z1, z2, r_val, R1) for r_val in r]\n",
    "\n",
    "# Plotting result\n",
    "plt.figure(figsize=(6.4,4.8))\n",
    "for i, r_val in enumerate(r):\n",
    "    plt.plot(z, Br1[i], label=fr'$r$ = {r_val:.2f} m')\n",
    "\n",
    "plt.axvline(x=z1, color='dimgray', linestyle='--', label=r'$z_1$')\n",
    "plt.axvline(x=z2, color='darkgray', linestyle='--', label=r'$z_2$')\n",
    "\n",
    "plt.text(z1, 0, r'$z_1$', ha='right', va='bottom', fontsize=12)\n",
    "plt.text(z2, 0, r'$z_2$', ha='right', va='bottom', fontsize=12)\n",
    "\n",
    "plt.xlabel(r'$z$ Position (m)')\n",
    "plt.ylabel(r'$B_r(r,z)/B_0$ (1)')\n",
    "plt.title(fr'Plot of $B_r(r,z)/B_0$ for $L$ = {L1} and $R$ = {R1}')\n",
    "\n",
    "plt.legend()\n",
    "plt.savefig('3b_given_parameters')"
   ]
  },
  {
   "cell_type": "markdown",
   "metadata": {},
   "source": [
    "#### B field, Lorentz force, and beam simulation"
   ]
  },
  {
   "cell_type": "code",
   "execution_count": 9,
   "metadata": {},
   "outputs": [],
   "source": [
    "def B_field(p, B0=1e-3, R=0.1, z1=0, z2=0.2):\n",
    "    \"\"\"Returns B field vector at position p(x,y,z) given B0 and lens radius R\n",
    "    \"\"\"\n",
    "    x = p[0]\n",
    "    y = p[1]\n",
    "    z = p[2]\n",
    "    r = np.sqrt(x**2 + y**2)\n",
    "    \n",
    "    # B field components\n",
    "    Br = B0 * Br_B0(z, z1, z2, r, R)\n",
    "    Bz = B0 * Bz_B0(z, z1, z2, R)\n",
    "    \n",
    "    # Unit vectors\n",
    "    ez = np.array([0, 0, 1])\n",
    "    \n",
    "    # In case r = 0\n",
    "    if r == 0:\n",
    "        er = np.array([0, 0, 0])\n",
    "    else:\n",
    "        er = np.array([x, y, 0]) / r\n",
    "        \n",
    "    return Br*er + Bz*ez\n",
    "    "
   ]
  },
  {
   "cell_type": "code",
   "execution_count": null,
   "metadata": {},
   "outputs": [],
   "source": [
    "def F_lorentz(v, B):\n",
    "    return -1.6022e-19 * np.cross(v, B)"
   ]
  },
  {
   "cell_type": "code",
   "execution_count": 11,
   "metadata": {},
   "outputs": [],
   "source": [
    "def beam_simulation(r0, v0, B0=1e-3, R=0.1, tmax=80e-9, h=1e-10):\n",
    "    \"\"\"Simulates electron beam traveling through magnetic lens\n",
    "    Parameters\n",
    "    ----------\n",
    "    r0: initial position [x, y, z]\n",
    "    v0: initial velocity [vx, vy, vz]\n",
    "    tmax: duration of simulation, default is 10 microseconds\n",
    "    h: time step, default is 1 nanosecond\n",
    "    \n",
    "    Returns\n",
    "    -------\n",
    "    Arrays of positions, velocities, and time series of electron through simulation\n",
    "    \"\"\"\n",
    "\n",
    "    q = -1.602e-19  # Coulombs\n",
    "    m_e = 9.11e-31  # kg\n",
    "\n",
    "    Nsteps = int(tmax/h)\n",
    "    t_range = h * np.arange(Nsteps)\n",
    "    \n",
    "    y = np.array([r0[0], r0[1], r0[2], v0[0], v0[1], v0[2]], dtype=np.float64)\n",
    "    \n",
    "    positions = [[y[0], y[1], y[2]]]\n",
    "    velocities = [[y[3], y[4], y[5]]]\n",
    "    \n",
    "    # Standard form force function\n",
    "    def f(t, y, m=m_e):\n",
    "        # y = [x, y, z, vx, vy, vz]\n",
    "        r = np.array([y[0], y[1], y[2]])\n",
    "        v = np.array([y[3], y[4], y[5]])\n",
    "        B = B_field(r)\n",
    "        F = F_lorentz(v, B)\n",
    "        return np.array([y[3], y[4], y[5], F[0]/m, F[1]/m, F[2]/m])\n",
    "    \n",
    "    # rk4\n",
    "    for i, t in enumerate(t_range[:-1]):\n",
    "        k1 = f(t, y)\n",
    "        k2 = f(t + 0.5*h, y + 0.5*h*k1)\n",
    "        k3 = f(t + 0.5*h, y + 0.5*h*k2)\n",
    "        k4 = f(t + h, y + h*k3)\n",
    "        y += h/6 * (k1 + 2*k2 + 2*k3 + k4)\n",
    "        positions.append([y[0], y[1], y[2]])\n",
    "        velocities.append([y[3], y[4], y[5]])\n",
    "        \n",
    "    return np.array(positions), np.array(velocities), t_range\n"
   ]
  },
  {
   "cell_type": "markdown",
   "metadata": {},
   "source": [
    "#### 4. Integrating Equations of Motion for Solenoid and Lens\n",
    " The purpose of using the rk4 algorithm in the beam simulator that Guillermo provided is that we would find the rk4 algorithm more accurate over small time steps along with being an overall general ODE solver. We don't plan on worrying about energy conservation as much because we are choosing a relatively short time duration to run the simulation."
   ]
  },
  {
   "cell_type": "markdown",
   "metadata": {},
   "source": [
    "First, we plan to initialize our constants and define our functions. Guillermo has provided us with the beam simulation function and the magnetic field function above that would allow us to integrate the equations of motion. Before this we would need to establish the Lorentz force function and implement the magnetic field function into the Lorentz force."
   ]
  },
  {
   "cell_type": "code",
   "execution_count": null,
   "metadata": {},
   "outputs": [],
   "source": [
    "# Initialize variables\n",
    "# constants\n",
    "m_e = 9.11e-31\n",
    "c = 2.998e8\n",
    "mu0 = 1.257e-6\n",
    "eps0 = 8.854e-12\n",
    "e = 1.6022e-19\n",
    "\n",
    "# Table 2 Lens\n",
    "R = 0.1\n",
    "L = 0.2\n",
    "z1 = 0\n",
    "B0 = B_field(p = np.array([3/4*R, 0, -0.3]))\n",
    "\n",
    "# Solenoid\n",
    "L_sol = 0.75\n",
    "B_0_sol = B_field(p = np.array([3/4*R, 0, -0.3]), B0 = 0.0035, \n",
    "                  R = 0.1, z1 = 0, z2 = 0.75)"
   ]
  },
  {
   "cell_type": "markdown",
   "metadata": {},
   "source": [
    "#### 5."
   ]
  },
  {
   "cell_type": "markdown",
   "metadata": {},
   "source": [
    "#### Random initial positions"
   ]
  },
  {
   "cell_type": "markdown",
   "metadata": {},
   "source": [
    "We can create a function `generate_random()` that will return a set of random initial conditions. Specifically, we will generate random x and y coordinates following a gaussian distribution centered at (0,0), while the z coordinate will always be set to the same value $z_0$ from **Table 2.** "
   ]
  },
  {
   "cell_type": "code",
   "execution_count": 12,
   "metadata": {},
   "outputs": [],
   "source": [
    "def generate_random(R=0.1, N=1000, z0=-0.3, sigma=None):\n",
    "    \"\"\"Generates array of N random initial (x,y,z0) positions\n",
    "    within the lens radius R\n",
    "    \"\"\"\n",
    "    if sigma is None:\n",
    "        sigma = R/3\n",
    "        \n",
    "    import random\n",
    "    r0 = np.zeros((N, 3))\n",
    "    r0[:, 2] = z0\n",
    "    for i in range(N):\n",
    "        within_range = False\n",
    "        while within_range == False:\n",
    "            r0[i, 0] = random.gauss(mu=0, sigma=sigma)\n",
    "            r0[i, 1] = random.gauss(mu=0, sigma=sigma)\n",
    "            if np.sqrt(r0[i, 0]**2 + r0[i, 1]**2) < R:\n",
    "                within_range = True\n",
    "    return r0"
   ]
  },
  {
   "cell_type": "markdown",
   "metadata": {},
   "source": [
    "The for loop in the function is designed to make sure that all of our initial positions are within the lens radius $R_0$."
   ]
  },
  {
   "cell_type": "markdown",
   "metadata": {},
   "source": [
    "#### Plot of generated initial conditions"
   ]
  },
  {
   "cell_type": "markdown",
   "metadata": {},
   "source": [
    "Using `generate_random()`, we can now generate 1000 initial positions in which the electron beam make start out at the beginning of the simulation. A plot of these can be found in the **Results** section."
   ]
  },
  {
   "cell_type": "code",
   "execution_count": 13,
   "metadata": {},
   "outputs": [],
   "source": [
    "%%capture\n",
    "r0 = generate_random()\n",
    "fig, ax = plt.subplots()\n",
    "fig.set_figheight(5)\n",
    "fig.set_figwidth(5.4)\n",
    "ax.plot(r0[:,0], r0[:,1], 'b.', alpha=0.5)\n",
    "ax.set_xlabel('$x$ [m]')\n",
    "ax.set_ylabel('$y$ [m]')\n",
    "circle = plt.Circle((0,0), 0.1, fill=False)\n",
    "ax.add_patch(circle)\n",
    "plt.title(\"Plot of 1000 Randomly Generated Initial (x,y) Positions\")\n",
    "fig.tight_layout()\n",
    "plt.savefig('5b_random_initial')"
   ]
  },
  {
   "cell_type": "markdown",
   "metadata": {},
   "source": [
    "#### Example for 5 random inital conditions"
   ]
  },
  {
   "cell_type": "markdown",
   "metadata": {},
   "source": [
    "As an example, we can run the `beam_simulation()` for 5 initial conditions obtained from `generate_random()` and plot the resulting trajectories. We will assume that every electron starts out with only a $z$ component for their velocity."
   ]
  },
  {
   "cell_type": "code",
   "execution_count": 14,
   "metadata": {},
   "outputs": [],
   "source": [
    "v0 = np.array([0, 0, 18e6]) # 0.06c m/s"
   ]
  },
  {
   "cell_type": "code",
   "execution_count": 15,
   "metadata": {
    "scrolled": false
   },
   "outputs": [
    {
     "data": {
      "text/plain": [
       "<matplotlib.collections.PolyCollection at 0x2201efbbd90>"
      ]
     },
     "execution_count": 15,
     "metadata": {},
     "output_type": "execute_result"
    },
    {
     "data": {
      "image/png": "[encoded data removed]",
      "text/plain": [
       "<Figure size 640x480 with 1 Axes>"
      ]
     },
     "metadata": {},
     "output_type": "display_data"
    }
   ],
   "source": [
    "N = 5\n",
    "r0 = generate_random(R0, N=N)\n",
    "\n",
    "for i in range(N):\n",
    "    trajectory = beam_simulation(r0[i], v0, tmax=80e-9, h=1e-10)[0]\n",
    "    z = trajectory[:, 2]\n",
    "    x, y = trajectory[:, 0], trajectory[:, 1]\n",
    "    r = np.sqrt(x**2 + y**2)\n",
    "    plt.plot(z, r)\n",
    "    \n",
    "plt.xlabel(\"z [m]\")\n",
    "plt.ylabel(\"r [m]\")\n",
    "plt.title(\"Plot of Radial Distance as a Function of $z$, 5 Beam Simulations\")\n",
    "plt.fill_between([0, 0.2],[0.1, 0.1], color='b', alpha=0.3)"
   ]
  },
  {
   "cell_type": "markdown",
   "metadata": {},
   "source": [
    "**Figure 3.** Example of beam simulation for 5 initial conditions. Here, the shaded blue box represents the position of the magnetic lens. We can clearly observe the bending of the electron beam's path as it passes through the lens, after which it reaches a minimum radial distance at the focal point."
   ]
  },
  {
   "cell_type": "markdown",
   "metadata": {},
   "source": [
    "#### c. Full simulation for 100  initial conditions "
   ]
  },
  {
   "cell_type": "markdown",
   "metadata": {},
   "source": [
    "We can now run the simulation for 100 initial conditions and plot the paths of the electron beams."
   ]
  },
  {
   "cell_type": "code",
   "execution_count": 16,
   "metadata": {},
   "outputs": [],
   "source": [
    "%%capture\n",
    "# This takes a bit to run\n",
    "N = 100\n",
    "rmin = []\n",
    "f = []\n",
    "for i in range(N):\n",
    "    # run simulation\n",
    "    r0 = generate_random(R0, N=1)[0]\n",
    "    trajectory = beam_simulation(r0, v0, tmax=80e-9, h=1e-10)[0]\n",
    "    \n",
    "    # plot trajectory\n",
    "    z = trajectory[:, 2]\n",
    "    x, y = trajectory[:, 0], trajectory[:, 1]\n",
    "    r = np.sqrt(x**2 + y**2)\n",
    "    plt.plot(z, r)\n",
    "    \n",
    "    # minimum radial distance and focal length\n",
    "    rmin.append(np.min(r))\n",
    "    f_length = z[np.argmin(r)] - 0.2\n",
    "    f.append(f_length)\n",
    "    \n",
    "plt.xlabel(\"z [m]\")\n",
    "plt.ylabel(\"r [m]\")\n",
    "plt.fill_between([0, 0.2],[0.1, 0.1], color='b', alpha=0.3)\n",
    "plt.title(\"Beam Simulations for 100 Initial Conditions\")\n",
    "plt.savefig(\"5c_100_initial_conditions\")"
   ]
  },
  {
   "cell_type": "markdown",
   "metadata": {},
   "source": [
    "The lists `rmin` and `f` will help us keep track of the minimum radial distance and focal length achieved by each beam simulation. The focal length can be determined by finding the distance between the back of the coils (the point $z_2=0.2\\ m$) and the $z$ coordinate that minimizes the radial distance."
   ]
  },
  {
   "cell_type": "markdown",
   "metadata": {},
   "source": [
    "#### Focal length and minimum distance"
   ]
  },
  {
   "cell_type": "markdown",
   "metadata": {},
   "source": [
    "Having simulated the electron beam for 1000 initial conditions, we can observe the relationship between the focal point and the minimum radial distance achieved by each beam. More in **Results** section."
   ]
  },
  {
   "cell_type": "code",
   "execution_count": 17,
   "metadata": {},
   "outputs": [],
   "source": [
    "%%capture\n",
    "N = 50\n",
    "plt.plot(rmin, f, \"r.\", alpha=0.7)\n",
    "plt.xlabel(\"$r_{min}$ [m]\")\n",
    "plt.ylabel(\"focal length [m]\")\n",
    "plt.title(\"Focal length vs Minimum Radial Distance\")\n",
    "plt.savefig(\"5d_focal_length\")"
   ]
  },
  {
   "cell_type": "markdown",
   "metadata": {},
   "source": [
    "## 2. Results and Discussion\n",
    "We begin our discussion by looking at the impact the lens length, $L$, and lens radius, $R$, on the magnetic field vector $\\mathbf{B}$. Note, as stated before, the azimuthal component vanished due to rotational symmetry, and as a result is ommitted here.\n",
    "\n",
    "<figure style=\"text-align: center;\">\n",
    "    <div style=\"display: flex; justify-content: center; align-items: center; flex-wrap: wrap;\">\n",
    "        <div style=\"flex: 50%; text-align: center; padding: 10px; box-sizing: border-box;\">\n",
    "            <img src=\"../Work/2a_table_parameters.png\" alt=\"Resulting figure from required objective 2 (a).\" style=\"min-width:20em; max-width: 100%; height: auto;\">\n",
    "            <figcaption><b>(a)</b> Longitudinal component</figcaption>\n",
    "        </div>\n",
    "        <div style=\"flex: 50%; text-align: center; padding: 10px; box-sizing: border-box;\">\n",
    "            <img src=\"../Work/3a_table_parameters.png\" alt=\"Resulting figure from required objective 3 (a).\" style=\"min-width:20em; max-width: 100%; height: auto;\">\n",
    "            <figcaption><b>(b)</b> Radial component</figcaption>\n",
    "        </div>\n",
    "    </div>\n",
    "</figure>\n",
    "\n",
    "**Figure 4.** Calculation outcomes for the components of the magnetic field vector $\\mathbf{B}$ of a realistic solenoid (in cylindrical coordinates), using parameter values of $L = 0.2$ m, $R = 0.1$ m, $z_1 = 0$ m, and $z_2 = 0.2$ m. The value of the field is given relative to $B_0$, the value for the homogeneous magnetic field of the ideal solenoid and plotted along $z$. In (b), the value of $B(r,z)$ is plotted for different values of $r$.\n",
    "\n",
    "<figure style=\"text-align: center;\">\n",
    "    <div style=\"display: flex; justify-content: center; align-items: center; flex-wrap: wrap;\">\n",
    "        <div style=\"flex: 50%; text-align: center; padding: 10px; box-sizing: border-box;\">\n",
    "            <img src=\"../Work/2b_given_parameters.png\" alt=\"Resulting figure from required objective 2 (a).\" style=\"min-width:20em; max-width: 100%; height: auto;\">\n",
    "            <figcaption><b>(a)</b> Longitudinal component</figcaption>\n",
    "        </div>\n",
    "        <div style=\"flex: 50%; text-align: center; padding: 10px; box-sizing: border-box;\">\n",
    "            <img src=\"../Work/3b_given_parameters.png\" alt=\"Resulting figure from required objective 3 (a).\" style=\"min-width:20em; max-width: 100%; height: auto;\">\n",
    "            <figcaption><b>(b)</b> Radial component</figcaption>\n",
    "        </div>\n",
    "    </div>\n",
    "</figure>\n",
    "\n",
    "**Figure 5.** Calculation outcomes for the components of the magnetic field vector $\\mathbf{B}$ of a realistic solenoid (in cylindrical coordinates), using parameter values of $L = 0.75$ m, $R = 0.05$ m, $z_1 = 0$ m, and $z_2 = 0.2$ m. The value of the field is given relative to $B_0$, the value for the homogeneous magnetic field of the ideal solenoid and plotted along $z$. In (b), the value of $B(r,z)$ is plotted for different values of $r$.  \n",
    "  \n",
    "Recall, from [Equation (3)](###03-solenoid-as-a-magnetic-lens), that the radial component is proportional to the derivative of the longitudinal component of the magnetic field. $r$ behaves as variable that alters the magnitude of the function, but the behavior of the radial component depends completely on the derivative of the longitudinal component. We also noted that the graphs of $B_r(r,z)/B_0$ have local extrema at the lens opening and ending, $z_1$ and $z_2$, respectively. We emphasize this by including dashed lines for $z_1$ and $z_2$ on each of the plots."
   ]
  },
  {
   "cell_type": "markdown",
   "metadata": {},
   "source": [
    "-------------------\n",
    "##### Part 4 Results here...\n",
    "------------------------"
   ]
  },
  {
   "cell_type": "markdown",
   "metadata": {},
   "source": [
    "<figure style=\"text-align: center;\">\n",
    "    <img src=\"../Work/5b_random_initial.png\" alt=\"random positions\" style=\"width: 50%; min-width: 30em;\">\n",
    "</figure>\n",
    "\n",
    "**Figure 6.** This image shows a scatter plot of the 1000 randomly generated initial conditions for the electron beam simulation. The black circle represents the boundary of the lens. Although some points get close to this boundary, we can see that no beams that start outside of the lens are accounted for. For the full simulation, we only used 100 initial conditions. Calculating more iterations is possible but results in longer computation times."
   ]
  },
  {
   "cell_type": "markdown",
   "metadata": {},
   "source": [
    "<figure style=\"text-align: center;\">\n",
    "    <img src=\"../Work/5c_100_initial_conditions.png\" alt=\"100 initial conditions\" style=\"width: 50%; min-width: 30em;\">\n",
    "</figure>\n",
    "\n",
    "**Figure 7.** Plotting the trajectories of all 100 runs reveals the lens-like behavior of the magnetic solenoid as it focuses the electron beams into a relatively small area. This occurs for all beams despite them entering the lens from different radial positions. This is a direct consequence of the magnetic field being proportional to the radial position of the electron as it enters the lens, as stated earlier. Being further away from the axis of the solenoid results in a stronger Lorentz force acting on the electrons, thus curving their path more sharply. This turns out to be just right to nearly preserve the focal point at which different beams intersect."
   ]
  },
  {
   "cell_type": "markdown",
   "metadata": {},
   "source": [
    "This leads us to the analysis of the focal distance, as shown in the following figure:\n",
    "<figure style=\"text-align: center;\">\n",
    "    <img src=\"../Work/5d_focal_length.png\" alt=\"focal length\" style=\"width: 50%; min-width: 30em;\">\n",
    "</figure>\n",
    "\n",
    "**Figure 8.** This plot shows the relationship between the minimum radial distance achieved by a beam and the focal length, i.e. the distance between the back of the solenoid and the z coordinate where that minimum is achieved. The plot confirms the observation that for beams whose focal length is shorter, the radial distance at the focal point tends to be larger. Further, this relationship seems to be quantized, as shown by the sudden jumps in the trend line of the graph. This could be an artifact of the integration process, or perhaps a result of approximating the minima with discrete data points. The most common focal length seems to be somewhere around 0.380 m."
   ]
  },
  {
   "cell_type": "markdown",
   "metadata": {},
   "source": [
    "## 3. Conclusions"
   ]
  },
  {
   "cell_type": "markdown",
   "metadata": {},
   "source": [
    "In conclusion, our project successfully simulated the behavior of a magnetic lens within a scanning electron microscope (SEM), addressing both theoretical and computational aspects. Through the derivation of the radial and longitudinal components of the magnetic field, and by implementing these equations in our simulations, we were able to accurately model the magnetic lens' effect on electron trajectories. Our results demonstrated how different parameters, such as the lens length, radius, and magnetic field strength, influence the focusing properties of the lens.  \n",
    "  \n",
    "The simulations, conducted under various configurations, revealed the critical role of the magnetic lens in focusing electron beams to a fine spot, essential for the high-resolution imaging capabilities of SEMs. By adjusting parameters like the solenoid's length and magnetic field strength, we could observe changes in the focal length and beam profile, providing insights into the lens' optimization for practical SEM applications.  \n",
    "  \n",
    "Our project not only deepened our understanding of the physical principles governing magnetic lenses but also honed our computational skills through the application of numerical integration and visualization techniques. The collaborative effort led to a comprehensive exploration of the magnetic lens concept, offering a solid foundation for future research in SEM technology and its applications."
   ]
  },
  {
   "cell_type": "markdown",
   "metadata": {},
   "source": [
    "## 4. Acknowledgements\n",
    "All authors designed the project together. Agustin wrote the code to gather and plot data for required objectives 1-3, in addition to discussing their corresponding analysis in the *Results and Discussion* section. Agustin also wrote the *Abstract*, *Introduction*, and *Conclusion* sections. Michael ... . Guillermo wrote the code for implementing the rk4 integrator, made the code required for objective 5, and discussed their corresponding results. All authors discussed the results."
   ]
  },
  {
   "cell_type": "markdown",
   "metadata": {},
   "source": [
    "## References"
   ]
  },
  {
   "cell_type": "markdown",
   "metadata": {},
   "source": [
    "<p style=\"padding-left: 2em; text-indent: -2em;\">\n",
    "  Kumar V, 2009 Understanding the focusing of charged particle beams in a solenoid magnetic field. American Journal of Physics 77 737–741, http://aapt.scitation.org/doi/10.1119/1.3129242.\n",
    "</p>"
   ]
  }
 ],
 "metadata": {
  "kernelspec": {
   "display_name": "Python 3 (ipykernel)",
   "language": "python",
   "name": "python3"
  },
  "language_info": {
   "codemirror_mode": {
    "name": "ipython",
    "version": 3
   },
   "file_extension": ".py",
   "mimetype": "text/x-python",
   "name": "python",
   "nbconvert_exporter": "python",
   "pygments_lexer": "ipython3",
   "version": "3.11.4"
  }
 },
 "nbformat": 4,
 "nbformat_minor": 2
}
