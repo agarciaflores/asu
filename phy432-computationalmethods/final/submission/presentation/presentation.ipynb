{
 "cells": [
  {
   "cell_type": "code",
   "execution_count": 2,
   "metadata": {
    "slideshow": {
     "slide_type": "notes"
    }
   },
   "outputs": [
    {
     "data": {
      "text/html": [
       "<style>\n",
       "    .large-center {\n",
       "        font-size: 30px; /* Sets the font size to 30 pixels */\n",
       "        margin: 5px 0; /* Adds space above and below */\n",
       "        text-align: center; /* Centers the text */\n",
       "    }\n",
       "    \n",
       "    /* Ensure overriding of any other style specificities */\n",
       "    div > .large-center {\n",
       "        text-align: center;\n",
       "    }\n",
       "    \n",
       "    .large {\n",
       "        font-size: 32px; /* Sets the font size to 37 pixels */\n",
       "        margin: 5px 0; /* Adds space above and below */\n",
       "    }\n",
       "\n",
       "    .navigate-down, .navigate-up, .navigate-left, .navigate-right {\n",
       "        display: none !important;\n",
       "    }\n",
       "\n",
       "    .reveal .slides > section, .reveal .slides > section > section { \n",
       "        padding: 0 0.5%; /* Or whatever value you find appropriate */\n",
       "        box-sizing: border-box; /* Ensures padding is included in the width */\n",
       "    }\n",
       "\n",
       "    /* Move the progress bar to the bottom of the slide */\n",
       "    .reveal .progress {\n",
       "        position: absolute;\n",
       "        bottom: 0;\n",
       "        top: auto;\n",
       "        width: 100%; /* Ensures progress bar spans the width of the slide */\n",
       "    }\n",
       "\n",
       "    .slide {\n",
       "        width: 100% !important;\n",
       "        height: 100% !important;\n",
       "#         inset: 50% auto auto 50% !important;\n",
       "#         transform: translate(-50%, -50%) scale(1.0848) !important;\n",
       "        }\n",
       "    \n",
       "    .figure {\n",
       "        width: 1100px;\n",
       "    }\n",
       "    \n",
       "    .wide-figure {\n",
       "        width: 1800px;\n",
       "    }\n",
       "</style>\n"
      ],
      "text/plain": [
       "<IPython.core.display.HTML object>"
      ]
     },
     "metadata": {},
     "output_type": "display_data"
    }
   ],
   "source": [
    "%%html\n",
    "<style>\n",
    "    .large-center {\n",
    "        font-size: 30px; /* Sets the font size to 30 pixels */\n",
    "        margin: 5px 0; /* Adds space above and below */\n",
    "        text-align: center; /* Centers the text */\n",
    "    }\n",
    "    \n",
    "    /* Ensure overriding of any other style specificities */\n",
    "    div > .large-center {\n",
    "        text-align: center;\n",
    "    }\n",
    "    \n",
    "    .large {\n",
    "        font-size: 32px; /* Sets the font size to 37 pixels */\n",
    "        margin: 5px 0; /* Adds space above and below */\n",
    "    }\n",
    "\n",
    "    .navigate-down, .navigate-up, .navigate-left, .navigate-right {\n",
    "        display: none !important;\n",
    "    }\n",
    "\n",
    "    .reveal .slides > section, .reveal .slides > section > section { \n",
    "        padding: 0 0.5%; /* Or whatever value you find appropriate */\n",
    "        box-sizing: border-box; /* Ensures padding is included in the width */\n",
    "    }\n",
    "\n",
    "    /* Move the progress bar to the bottom of the slide */\n",
    "    .reveal .progress {\n",
    "        position: absolute;\n",
    "        bottom: 0;\n",
    "        top: auto;\n",
    "        width: 100%; /* Ensures progress bar spans the width of the slide */\n",
    "    }\n",
    "\n",
    "    .slide {\n",
    "        width: 100% !important;\n",
    "        height: 100% !important;\n",
    "#         inset: 50% auto auto 50% !important;\n",
    "#         transform: translate(-50%, -50%) scale(1.0848) !important;\n",
    "        }\n",
    "    \n",
    "    .figure {\n",
    "        width: 1100px;\n",
    "    }\n",
    "    \n",
    "    .wide-figure {\n",
    "        width: 1800px;\n",
    "    }\n",
    "</style>"
   ]
  },
  {
   "cell_type": "markdown",
   "metadata": {
    "slideshow": {
     "slide_type": "notes"
    }
   },
   "source": [
    "$\\newcommand{\\ket}[1]{\\left|#1\\right>}$\n",
    "$\\newcommand{\\pa}[1]{\\left(#1\\right)}$\n",
    "$\\newcommand{\\ceil}[1]{\\left\\lceil#1\\right\\rceil}$\n",
    "$\\newcommand{\\ceil}[1]{\\left\\lfloor#1\\right\\rfloor}$"
   ]
  },
  {
   "cell_type": "markdown",
   "metadata": {
    "slideshow": {
     "slide_type": "slide"
    }
   },
   "source": [
    "<div style=\"text-align: center;\">\n",
    "    <h1>A Brief Overview of Quantum Computing and it's Applications</h1>\n",
    "    <p class=\"large-center\">\n",
    "       Agustin Garcia Flores & Nathan Reynolds<br>\n",
    "       PHY432: Computational Methods in Physics<br>\n",
    "       Professor Oliver Beckstein<br>\n",
    "       <a href=\"https://github.com/Py4Phy/final-2024-computers\">github.com/Py4Phy/final-2024-computers</a>\n",
    "    </p>\n",
    "</div>"
   ]
  },
  {
   "cell_type": "markdown",
   "metadata": {
    "slideshow": {
     "slide_type": "subslide"
    }
   },
   "source": [
    "# Outline\n",
    "<ul class=\"large\">\n",
    "    <li> Background </li>\n",
    "    <li> Quantum Entanglement </li>\n",
    "    <li> Quantum Teleportation </li>\n",
    "    <li> Quantum Key Distribution </li>\n",
    "    <li> Conclusion </li>\n",
    "</ul>"
   ]
  },
  {
   "cell_type": "markdown",
   "metadata": {
    "slideshow": {
     "slide_type": "slide"
    }
   },
   "source": [
    "## Quantum Computers\n",
    "<ul class=\"large\">\n",
    "    <li> Leverage the laws of quantum mechanics</li>\n",
    "    <li> Potential applications in cryptography, drug discovery, and solving complex optimization problems faster than classical computers </li>\n",
    "</ul>"
   ]
  },
  {
   "cell_type": "markdown",
   "metadata": {
    "slideshow": {
     "slide_type": "subslide"
    }
   },
   "source": [
    "## Qiskit\n",
    "<div style=\"display: flex; align-items: center; justify-content: space-around;\">\n",
    "    <div>\n",
    "        <ul class=\"large\">\n",
    "            <li> An open-source SDK for working with quantum computers at the level of extended quantum circuits, operators, and primitives </li>\n",
    "            <li> Utilized <a href=\"https://qiskit.github.io/qiskit-aer/stubs/qiskit_aer.AerSimulator.html\">AerSimulator</a> and <a href=\"https://docs.quantum.ibm.com/verify/cloud-based-simulators#qasm-simulator\">QASM simulator</a> </li>\n",
    "        </ul>\n",
    "    </div>\n",
    "    <figure style=\"text-align: center; margin: 0;\">\n",
    "        <img src=\"figures/qiskit.png\" alt=\"Qiskit logo\" style=\"width: 11%; min-width: 10em;\">\n",
    "        <figcaption><a href=\"#references\">[1]</a></figcaption>\n",
    "    </figure>\n",
    "</div>"
   ]
  },
  {
   "cell_type": "code",
   "execution_count": null,
   "metadata": {
    "slideshow": {
     "slide_type": "fragment"
    }
   },
   "outputs": [],
   "source": [
    "provider = IBMProvider()\n",
    "\n",
    "# Getting the simulator backend\n",
    "backend = provider.get_backend('ibmq_qasm_simulator')\n",
    "\n",
    "# Making a noisy backend\n",
    "backend_qc = provider.get_backend('ibm_kyoto')\n",
    "noise_model = NoiseModel.from_backend(backend_qc)\n",
    "noisy_backend = AerSimulator(noise_model=noise_model)"
   ]
  },
  {
   "cell_type": "markdown",
   "metadata": {
    "slideshow": {
     "slide_type": "subslide"
    }
   },
   "source": [
    "<figure style=\"text-align: center;\">\n",
    "    <img class='figure' src=\"figures/composer.jpg\" alt=\"IBM Quantum composer\">\n",
    "</figure>"
   ]
  },
  {
   "cell_type": "markdown",
   "metadata": {
    "slideshow": {
     "slide_type": "subslide"
    }
   },
   "source": [
    "## Qubits\n",
    "\n",
    "<figure style=\"text-align: center;\">\n",
    "    <img src=\"figures/bloch.png\" alt=\"Bloch sphere\" style=\"width: 25%; min-width: 20em;\">\n",
    "    <figcaption><b>Figure 1.</b> Bloch sphere representation of a qubit. <a href=\"#references\">[2]</a></figcaption>\n",
    "</figure>"
   ]
  },
  {
   "cell_type": "markdown",
   "metadata": {
    "slideshow": {
     "slide_type": "subslide"
    }
   },
   "source": [
    "$$\\Large{\\ket{\\beta_{xy}} \\equiv \\frac{1}{\\sqrt{2}}\\pa{\\ket{0, y} + \\pa{-1}^x\\ket{1, \\bar{y}}}}$$"
   ]
  },
  {
   "cell_type": "markdown",
   "metadata": {
    "slideshow": {
     "slide_type": "fragment"
    }
   },
   "source": [
    "$$\\Large{\\ket{\\beta_{00}} = \\frac{1}{\\sqrt{2}}\\pa{\\ket{00}+\\ket{11}} ~~~ \\ket{\\beta_{10}} = \\frac{1}{\\sqrt{2}}\\pa{\\ket{00}-\\ket{11}}}$$\n",
    "$$\\Large{\\ket{\\beta_{01}} = \\frac{1}{\\sqrt{2}}\\pa{\\ket{01}+\\ket{10}} ~~~ \\ket{\\beta_{11}} = \\frac{1}{\\sqrt{2}}\\pa{\\ket{01}-\\ket{10}}}$$"
   ]
  },
  {
   "cell_type": "markdown",
   "metadata": {
    "slideshow": {
     "slide_type": "fragment"
    }
   },
   "source": [
    "$$\\Large{\\ket{\\beta_{xy}^M} \\equiv \\frac{1}{\\sqrt{2}}\\left(\\ket{0}^{\\otimes\\left\\lceil\\frac{M}{2}\\right\\rceil}\\ket{y}^{\\otimes\\left\\lfloor\\frac{M}{2}\\right\\rfloor} + \\left(-1\\right)^x\\ket{1}^{\\otimes\\left\\lceil\\frac{M}{2}\\right\\rceil}\\ket{\\bar{y}}^{\\otimes\\left\\lfloor\\frac{M}{2}\\right\\rfloor}\\right)}$$"
   ]
  },
  {
   "cell_type": "markdown",
   "metadata": {
    "slideshow": {
     "slide_type": "subslide"
    }
   },
   "source": [
    "## Quantum Gates and Circuits\n",
    "\n",
    "<figure style=\"text-align: center;\">\n",
    "    <img src=\"figures/gates.png\" alt=\"Table of quantum gates\" style=\"width: 80%; min-width: 20em;\">\n",
    "    <figcaption><b>Table 1.</b> A collection of the gates we used often in our quantum circuits. <a href=\"#references\">[2]</a></figcaption>\n",
    "</figure>"
   ]
  },
  {
   "cell_type": "markdown",
   "metadata": {
    "slideshow": {
     "slide_type": "slide"
    }
   },
   "source": [
    "## Quantum Entanglement\n",
    "<ul class=\"large\">\n",
    "    <li> When the quantum state of each particle cannot be described independently of the state of the others, even when the particles are separated by large distances </li>\n",
    "    <li> Crucial for protocols like quantum teleportation, quantum cryptography, and superdense coding </li>\n",
    "</ul>"
   ]
  },
  {
   "cell_type": "markdown",
   "metadata": {
    "slideshow": {
     "slide_type": "subslide"
    }
   },
   "source": [
    "## Bell States\n",
    "\n",
    "<figure style=\"text-align: center;\">\n",
    "    <img src=\"figures/bell.png\" alt=\"Quantum circuit to generate Bell states\" style=\"width: 65%; min-width: 30em;\">\n",
    "    <figcaption><b>Figure 2.</b> Quantum circuit that produces Bell states. <a href=\"#references\">[2]</a></figcaption>\n",
    "</figure>"
   ]
  },
  {
   "cell_type": "markdown",
   "metadata": {
    "slideshow": {
     "slide_type": "subslide"
    }
   },
   "source": [
    "## GHZ States\n",
    "\n",
    "<figure style=\"text-align: center;\">\n",
    "    <img src=\"figures/ghz.png\" alt=\"Quantum circuit to generate GHZ states\" style=\"width: 65%; min-width: 30em;\">\n",
    "    <figcaption><b>Figure 3.</b> Quantum circuit that produces GHZ states.</figcaption>\n",
    "</figure>"
   ]
  },
  {
   "cell_type": "code",
   "execution_count": null,
   "metadata": {
    "slideshow": {
     "slide_type": "subslide"
    }
   },
   "outputs": [],
   "source": [
    "class QuantumEntanglement:\n",
    "    def __init__(self, qubits=2, beta_state='00', backend=backend):\n",
    "        ...\n",
    "        \n",
    "    def create_entangled_state(self):\n",
    "        ...\n",
    "\n",
    "    def execute_circuit(self):\n",
    "        ...\n",
    "        return counts # Return the measurement outcomes"
   ]
  },
  {
   "cell_type": "code",
   "execution_count": null,
   "metadata": {
    "slideshow": {
     "slide_type": "fragment"
    }
   },
   "outputs": [],
   "source": [
    "def check_success(counts):\n",
    "    measurements = list(counts.values())\n",
    "    if len(measurements) == 2 and abs(measurements[0]-measurements[1])<200:\n",
    "        return True\n",
    "    return False"
   ]
  },
  {
   "cell_type": "markdown",
   "metadata": {
    "slideshow": {
     "slide_type": "subslide"
    }
   },
   "source": [
    "<figure style=\"text-align: center;\">\n",
    "    <img class='figure' src=\"figures/entanglement/simulator-2qubits-beta00.png\" alt=\"Quantum entanglement for 2 qubits using beta state 00\">\n",
    "</figure>"
   ]
  },
  {
   "cell_type": "markdown",
   "metadata": {
    "slideshow": {
     "slide_type": "subslide"
    }
   },
   "source": [
    "<figure style=\"text-align: center;\">\n",
    "    <img class='wide-figure' src=\"figures/entanglement/ideal-vs-noise.png\" alt=\"Quantum entanglement for 2 qubits using beta state 00 comparison between ideal and noisy simulator\">\n",
    "</figure>"
   ]
  },
  {
   "cell_type": "markdown",
   "metadata": {
    "slideshow": {
     "slide_type": "subslide"
    }
   },
   "source": [
    "<figure style=\"text-align: center;\">\n",
    "    <img class='wide-figure' src=\"figures/entanglement/error-rate-qubits.png\" alt=\"Error rate as a function of qubits used in the circuit\">\n",
    "</figure>"
   ]
  },
  {
   "cell_type": "markdown",
   "metadata": {
    "slideshow": {
     "slide_type": "slide"
    }
   },
   "source": [
    "## Quantum Teleportation\n",
    "<ul class=\"large\">\n",
    "    <li> Process by which the quantum state of a particle is transferred from one location to another, without the physical transfer of the particle itself </li>\n",
    "    <li> Can be used for reliable transmission of information across quantum computers </li>\n",
    "</ul>"
   ]
  },
  {
   "cell_type": "markdown",
   "metadata": {
    "slideshow": {
     "slide_type": "subslide"
    }
   },
   "source": [
    "## Bell States\n",
    "\n",
    "<figure style=\"text-align: center;\">\n",
    "    <img src=\"figures/bell-teleportation.png\" alt=\"Quantum circuit to achieve quantum teleportation using Bell states\" style=\"width: 65%; min-width: 30em;\">\n",
    "    <figcaption><b>Figure 4.</b> Quantum circuit that achieves quantum teleportation using Bell states. <a href=\"#references\">[2]</a></figcaption>\n",
    "</figure>"
   ]
  },
  {
   "cell_type": "markdown",
   "metadata": {
    "slideshow": {
     "slide_type": "subslide"
    }
   },
   "source": [
    "## GHZ States\n",
    "\n",
    "<figure style=\"text-align: center;\">\n",
    "    <img src=\"figures/ghz-teleportation.png\" alt=\"Quantum circuit to achieve quantum teleportation using GHZ states\" style=\"width: 65%; min-width: 30em;\">\n",
    "    <figcaption><b>Figure 5.</b> Quantum circuit that achieves quantum teleportation using GHZ states. <a href=\"#references\">[3]</a></figcaption>\n",
    "</figure>"
   ]
  },
  {
   "cell_type": "code",
   "execution_count": null,
   "metadata": {
    "slideshow": {
     "slide_type": "subslide"
    }
   },
   "outputs": [],
   "source": [
    "class QuantumTeleportation:\n",
    "    def __init__(self, qubits=2,\n",
    "                 initial_state=0, teleportation_state='00',\n",
    "                 backend=backend):\n",
    "        ...\n",
    "\n",
    "    def initialize_state(self):\n",
    "        ...\n",
    "        \n",
    "    def create_entangled_state(self):\n",
    "        ...\n",
    "            \n",
    "    def teleportation_protocol(self):\n",
    "        ...\n",
    "\n",
    "    def execute_circuit(self):\n",
    "        return counts # Return the measurement outcomes"
   ]
  },
  {
   "cell_type": "markdown",
   "metadata": {
    "slideshow": {
     "slide_type": "subslide"
    }
   },
   "source": [
    "<div style=\"display: flex; align-items: center; justify-content: space-around;\">\n",
    "    <figure style=\"text-align: center; margin: 0;\">\n",
    "        <img src=\"figures/beta-00.png\" alt=\"Beta 00 state\" style=\"width: 80%; min-width: 10em;\">\n",
    "    </figure>\n",
    "    <figure style=\"text-align: center; margin: 0;\">\n",
    "        <img src=\"figures/bell-teleport-1-00.png\" alt=\"teleportation circuit\" style=\"width: 80%; min-width: 10em;\">\n",
    "    </figure>\n",
    "</div>\n",
    "\n",
    "\n",
    "<figure style=\"text-align: center;\">\n",
    "    <img src=\"figures/teleportation/simulator-bell-teleportation.png\" alt=\"Quantum teleportation on a quantum computer\" style=\"width: 80%; min-width: 20em;\">\n",
    "</figure>"
   ]
  },
  {
   "cell_type": "markdown",
   "metadata": {
    "slideshow": {
     "slide_type": "subslide"
    }
   },
   "source": [
    "<figure style=\"text-align: center;\">\n",
    "    <img class='figure' src=\"figures/teleportation/lima-bell-teleportation.png\" alt=\"Quantum teleportation on a quantum computer\">\n",
    "</figure>"
   ]
  },
  {
   "cell_type": "markdown",
   "metadata": {
    "slideshow": {
     "slide_type": "subslide"
    }
   },
   "source": [
    "<figure style=\"text-align: center;\">\n",
    "    <img class='wide-figure' src=\"figures/teleportation/bell-qc-vs-simulator.png\" alt=\"Quantum teleportation comparison for Bell states\">\n",
    "</figure>"
   ]
  },
  {
   "cell_type": "markdown",
   "metadata": {
    "slideshow": {
     "slide_type": "subslide"
    }
   },
   "source": [
    "<figure style=\"text-align: center;\">\n",
    "    <img class='wide-figure' src=\"figures/teleportation/ghz-qc-vs-simulator.png\" alt=\"Quantum teleportation comparison for Bell states\">\n",
    "</figure>"
   ]
  },
  {
   "cell_type": "markdown",
   "metadata": {
    "slideshow": {
     "slide_type": "subslide"
    }
   },
   "source": [
    "<figure style=\"text-align: center;\">\n",
    "    <img class='wide-figure' src=\"figures/teleportation/error-rate-qubits-all.png\" alt=\"Error rates as functions of qubits\">\n",
    "</figure>"
   ]
  },
  {
   "cell_type": "markdown",
   "metadata": {
    "slideshow": {
     "slide_type": "slide"
    }
   },
   "source": [
    "## Quantum Key Distribution\n",
    "<ul class=\"large\">\n",
    "    <li> Uses the principles of quantum mechanics to guarantee secure communication </li>\n",
    "    <li> Allows two parties to generate a shared, secret random key, which is secure from any eavesdropping attempt </li>\n",
    "</ul>"
   ]
  },
  {
   "cell_type": "markdown",
   "metadata": {
    "slideshow": {
     "slide_type": "subslide"
    }
   },
   "source": [
    "<figure style=\"text-align: center;\">\n",
    "    <img style=\"height: 500px;\" src=\"figures/qkd/random-number.png\" alt=\"Alice preparing bits in QKD Protocol\">\n",
    "</figure>"
   ]
  },
  {
   "cell_type": "markdown",
   "metadata": {
    "slideshow": {
     "slide_type": "subslide"
    }
   },
   "source": [
    "<figure style=\"text-align: center;\">\n",
    "    <img style=\"width: 800px;\" src=\"figures/qkd/alice-bits-101.png\" alt=\"Alice preparing bits in QKD Protocol\">\n",
    "</figure>"
   ]
  },
  {
   "cell_type": "markdown",
   "metadata": {
    "slideshow": {
     "slide_type": "subslide"
    }
   },
   "source": [
    "<figure style=\"text-align: center;\">\n",
    "    <img style=\"width: 850px;\" src=\"figures/qkd/alice-bases-110.png\" alt=\"Alice choosing bases in QKD Protocol\">\n",
    "</figure>"
   ]
  },
  {
   "cell_type": "markdown",
   "metadata": {
    "slideshow": {
     "slide_type": "subslide"
    }
   },
   "source": [
    "<figure style=\"text-align: center;\">\n",
    "    <img style=\"width: 900px;\" src=\"figures/qkd/bob-bases-101.png\" alt=\"Bob choosing bases in QKD Protocol\">\n",
    "</figure>"
   ]
  },
  {
   "cell_type": "markdown",
   "metadata": {
    "slideshow": {
     "slide_type": "subslide"
    }
   },
   "source": [
    "<figure style=\"text-align: center;\">\n",
    "    <img style=\"width: 900px;\" src=\"figures/qkd/bob-bases-101_0.png\" alt=\"Key in QKD Protocol\">\n",
    "</figure>"
   ]
  },
  {
   "cell_type": "code",
   "execution_count": null,
   "metadata": {
    "slideshow": {
     "slide_type": "subslide"
    }
   },
   "outputs": [],
   "source": [
    "class QKD:\n",
    "    def __init__(self, qubits, backend=backend):\n",
    "        ...\n",
    "\n",
    "    def generate_random_bits(self):\n",
    "        ...\n",
    "        return random_bits\n",
    "    \n",
    "    def alice_sending(self):\n",
    "        ...\n",
    "        return alice_bits, alice_bases, alice_circuit\n",
    "    \n",
    "    def bob_receiving(self):\n",
    "        ...\n",
    "        return alice_bits, alice_bases, bob_bases, alice_circuit\n",
    "        \n",
    "    def generate_key(self):\n",
    "        ...\n",
    "        return alice_key, bob_key"
   ]
  },
  {
   "cell_type": "markdown",
   "metadata": {
    "slideshow": {
     "slide_type": "subslide"
    }
   },
   "source": [
    "<figure style=\"text-align: center;\">\n",
    "    <img class='wide-figure' src=\"figures/qkd/qkd-key-length-comparison.png\" alt=\"Key length for different amount of qubits\">\n",
    "</figure>"
   ]
  },
  {
   "cell_type": "markdown",
   "metadata": {
    "slideshow": {
     "slide_type": "subslide"
    }
   },
   "source": [
    "<figure style=\"text-align: center;\">\n",
    "    <img class='wide-figure' src=\"figures/qkd/qkd-success-rate-comparison.png\" alt=\"QKD Protocol success rate for different amount of qubits\">\n",
    "</figure>"
   ]
  },
  {
   "cell_type": "markdown",
   "metadata": {
    "slideshow": {
     "slide_type": "slide"
    }
   },
   "source": [
    "## Conclusions\n",
    "<ul class=\"large\">\n",
    "    <li> For quantum entanglement and quantum teleportation, error rates scale with qubits </li>\n",
    "    <li> The QKD Protocol is heavily affected by noise </li>\n",
    "    <li> Quantum Error Correction codes are necessary </li>\n",
    "</ul>"
   ]
  },
  {
   "cell_type": "markdown",
   "metadata": {
    "slideshow": {
     "slide_type": "slide"
    }
   },
   "source": [
    "## References\n",
    "<ol id=\"references\" style=\"font-size: 18px; margin: 5px 0;\">\n",
    "    <li> Qiskit Development Team. (2024). <i>Qiskit: An open-source framework for quantum computing</i>. Retrieved from https://github.com/Qiskit/qiskit </li>\n",
    "    <li> M. A. Nielsen and I. L. Chuang, <i>Quantum Computation and Quantum Information</i>. Cambridge University Press, 10th anniversary ed., 2010. </li>\n",
    "    <li> E. Jung, M.-R. Hwang, Y. H. Ju, M.-S. Kim, S.-K. Yoo, H. Kim, D. Park, J.-W. Son, S. Tamaryan, and S.-K. Cha, “Greenberger-horne-zeilinger versus w: Quantum teleportation through noisy channels,” <i>Physical Review A</i>, vol. 78, July 2008. </li>\n",
    "</ol>"
   ]
  },
  {
   "cell_type": "markdown",
   "metadata": {
    "slideshow": {
     "slide_type": "slide"
    }
   },
   "source": [
    "## Appendix"
   ]
  },
  {
   "cell_type": "markdown",
   "metadata": {
    "slideshow": {
     "slide_type": "slide"
    }
   },
   "source": [
    "### Additional Entanglement Figures"
   ]
  },
  {
   "cell_type": "markdown",
   "metadata": {
    "slideshow": {
     "slide_type": "subslide"
    }
   },
   "source": [
    "<figure style=\"text-align: center;\">\n",
    "    <img class='wide-figure' src=\"figures/entanglement/error-rates-qubits-beta-states.png\" alt=\"Error rates as a function of qubits used and Beta states used\">\n",
    "    <figcaption><b>Figure 6.</b> Showing the error rate as function of qubits for all four different Beta states individually.</figcaption>\n",
    "</figure>"
   ]
  },
  {
   "cell_type": "markdown",
   "metadata": {
    "slideshow": {
     "slide_type": "subslide"
    }
   },
   "source": [
    "<figure style=\"text-align: center;\">\n",
    "    <img class='figure' src=\"figures/entanglement/error-rate-beta-states.png\" alt=\"Error rates for all four Beta states used\">\n",
    "    <figcaption><b>Figure 7.</b> A histogram showing the error rate for the four different Beta states individually, for all qubits.</figcaption>\n",
    "</figure>"
   ]
  },
  {
   "cell_type": "markdown",
   "metadata": {
    "slideshow": {
     "slide_type": "subslide"
    }
   },
   "source": [
    "<figure style=\"text-align: center;\">\n",
    "    <img style=\"width: 700px;\" src=\"figures/entanglement/simulator-9qubits-beta01.png\" alt=\"Quantum entanglement measurements of 9 qubits using beta state 01\">\n",
    "    <figcaption><b>Figure 8.</b> An interesting result. This outcome was flagged as a 'failure' by our code since the modulus of the counts is greater than 200 (5120 - 4880 = 240 > 200), though it obviously a success!</figcaption>\n",
    "</figure>"
   ]
  },
  {
   "cell_type": "markdown",
   "metadata": {
    "slideshow": {
     "slide_type": "subslide"
    }
   },
   "source": [
    "<figure style=\"text-align: center;\">\n",
    "    <img style=\"width: 700px;\" src=\"figures/entanglement/simulator-9qubits-beta10.png\" alt=\"Quantum entanglement measurements of 9 qubits using beta state 01\">\n",
    "    <figcaption><b>Figure 9.</b> Another interesting result. This outcome was also flagged as a 'failure' by our code since the modulus of the counts is greater than 200 (5113 - 4887 = 226 > 200), though it obviously another success! Interestingly enough, both of these errors happened for 9 qubits!</figcaption>\n",
    "</figure>"
   ]
  },
  {
   "cell_type": "markdown",
   "metadata": {
    "slideshow": {
     "slide_type": "slide"
    }
   },
   "source": [
    "### Additional Teleportation Figures"
   ]
  },
  {
   "cell_type": "markdown",
   "metadata": {
    "slideshow": {
     "slide_type": "subslide"
    }
   },
   "source": [
    "<figure style=\"text-align: center;\">\n",
    "    <img class='wide-figure' src=\"figures/teleportation/simulator-vs-noise.png\" alt=\"Ideal Simulator vs Noise Simulator comparison\">\n",
    "    <figcaption><b>Figure 10.</b> A comparison of the measurement outcomes for a 2 qubit teleportation, teleporting a qubit in the 0 state and using Beta state 00. <FONT COLOR=\"#ff0000\"><b>Note: The label reads 'AerSimulator' but it should read 'Ideal Simulator.'</b></FONT> </figcaption>\n",
    "</figure>"
   ]
  },
  {
   "cell_type": "markdown",
   "metadata": {
    "slideshow": {
     "slide_type": "subslide"
    }
   },
   "source": [
    "<figure style=\"text-align: center;\">\n",
    "    <img class='wide-figure' src=\"figures/teleportation/error-rate-qubits-beta-states.png\" alt=\"Error rates as functions of qubits for all four different Beta States\">\n",
    "    <figcaption><b>Figure 11.</b> Error rate as a function of qubits graphed for all four different Beta states individually.</figcaption>\n",
    "</figure>"
   ]
  },
  {
   "cell_type": "markdown",
   "metadata": {
    "slideshow": {
     "slide_type": "subslide"
    }
   },
   "source": [
    "<figure style=\"text-align: center;\">\n",
    "    <img class='wide-figure' src=\"figures/teleportation/error-rate-qubits-initial-states.png\" alt=\"Error rates as functions of qubits for the two different initial states\">\n",
    "    <figcaption><b>Figure 12.</b> Error rate as a function of qubits graphed for the two different Initial states individually.</figcaption>\n",
    "</figure>"
   ]
  },
  {
   "cell_type": "markdown",
   "metadata": {
    "slideshow": {
     "slide_type": "subslide"
    }
   },
   "source": [
    "<figure style=\"text-align: center;\">\n",
    "    <img class='figure' src=\"figures/teleportation/error-rate-beta-states.png\" alt=\"Error rates for all four different Beta states\">\n",
    "    <figcaption><b>Figure 13.</b> A histogram comparing the overall error rates for the four different Beta states used.</figcaption>\n",
    "</figure>"
   ]
  },
  {
   "cell_type": "markdown",
   "metadata": {
    "slideshow": {
     "slide_type": "subslide"
    }
   },
   "source": [
    "<figure style=\"text-align: center;\">\n",
    "    <img class='figure' src=\"figures/teleportation/error-rate-initial-states.png\" alt=\"Error rates for the two different initial states\">\n",
    "    <figcaption><b>Figure 14.</b> A histogram comparing the overall error rates for the two different Initial states used.</figcaption>\n",
    "</figure>"
   ]
  }
 ],
 "metadata": {
  "celltoolbar": "Slideshow",
  "kernelspec": {
   "display_name": "Python 3 (ipykernel)",
   "language": "python",
   "name": "python3"
  },
  "language_info": {
   "codemirror_mode": {
    "name": "ipython",
    "version": 3
   },
   "file_extension": ".py",
   "mimetype": "text/x-python",
   "name": "python",
   "nbconvert_exporter": "python",
   "pygments_lexer": "ipython3",
   "version": "3.11.5"
  }
 },
 "nbformat": 4,
 "nbformat_minor": 4
}
