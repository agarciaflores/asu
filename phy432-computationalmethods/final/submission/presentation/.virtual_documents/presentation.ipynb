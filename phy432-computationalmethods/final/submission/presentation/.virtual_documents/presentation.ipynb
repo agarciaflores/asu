%%html
<style>
    .large-center {
        font-size: 30px; /* Sets the font size to 30 pixels */
        margin: 5px 0; /* Adds space above and below */
        text-align: center; /* Centers the text */
    }
    
    /* Ensure overriding of any other style specificities */
    div > .large-center {
        text-align: center;
    }
    
    .large {
        font-size: 32px; /* Sets the font size to 37 pixels */
        margin: 5px 0; /* Adds space above and below */
    }

    .navigate-down, .navigate-up, .navigate-left, .navigate-right {
        display: none !important;
    }

    .reveal .slides > section, .reveal .slides > section > section { 
        padding: 0 0.5%; /* Or whatever value you find appropriate */
        box-sizing: border-box; /* Ensures padding is included in the width */
    }

    /* Move the progress bar to the bottom of the slide */
    .reveal .progress {
        position: absolute;
        bottom: 0;
        top: auto;
        width: 100%; /* Ensures progress bar spans the width of the slide */
    }

    .slide {
        width: 100% !important;
        height: 100% !important;
#         inset: 50% auto auto 50% !important;
#         transform: translate(-50%, -50%) scale(1.0848) !important;
        }
    
    .figure {
#         width: 130%;
        width: 1000px;
    }
</style>

















provider = IBMProvider()

# Getting the simulator backend
backend = provider.get_backend('ibmq_qasm_simulator')

# Making a noisy backend
backend_qc = provider.get_backend('ibm_kyoto')
noise_model = NoiseModel.from_backend(backend_qc)
noisy_backend = AerSimulator(noise_model=noise_model)


























class QuantumEntanglement:
    def __init__(self, qubits=2, beta_state='00', backend=backend):
        ...
        
    def create_entangled_state(self):
        ...

    def execute_circuit(self):
        ...
        return counts # Return the measurement outcomes














class QuantumTeleportation:
    def __init__(self, qubits=2,
                 initial_state=0, teleportation_state='00',
                 backend=backend):
        ...

    def initialize_state(self):
        ...
        
    def create_entangled_state(self):
        ...
            
    def teleportation_protocol(self):
        ...

    def execute_circuit(self):
        return counts # Return the measurement outcomes



































class QKD:
    def __init__(self, qubits, backend=backend):
        ...

    def generate_random_bits(self):
        ...
        return random_bits
    
    def alice_sending(self):
        ...
        return alice_bits, alice_bases, alice_circuit
    
    def bob_receiving(self):
        ...
        return alice_bits, alice_bases, bob_bases, alice_circuit
        
    def generate_key(self):
        ...
        return alice_key, bob_key




































