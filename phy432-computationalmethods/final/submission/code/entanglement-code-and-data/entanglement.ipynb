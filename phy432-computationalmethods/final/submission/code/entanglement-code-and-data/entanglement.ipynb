{
 "cells": [
  {
   "cell_type": "code",
   "execution_count": 1,
   "id": "1a91c00f-536d-497e-b1bb-07d467f7ed22",
   "metadata": {
    "tags": []
   },
   "outputs": [
    {
     "name": "stderr",
     "output_type": "stream",
     "text": [
      "/opt/conda/lib/python3.10/site-packages/pandas/core/computation/expressions.py:21: UserWarning: Pandas requires version '2.8.4' or newer of 'numexpr' (version '2.8.3' currently installed).\n",
      "  from pandas.core.computation.check import NUMEXPR_INSTALLED\n",
      "/opt/conda/lib/python3.10/site-packages/pandas/core/arrays/masked.py:60: UserWarning: Pandas requires version '1.3.6' or newer of 'bottleneck' (version '1.3.5' currently installed).\n",
      "  from pandas.core import (\n"
     ]
    }
   ],
   "source": [
    "\"\"\"\n",
    "This section imports the necessary libraries.\n",
    "qiskit is the main library for quantum computing,\n",
    "AerSimulator is used for simulating quantum circuits,\n",
    "and numpy is used for numerical operations like generating random numbers.\n",
    "\"\"\"\n",
    "\n",
    "from qiskit import QuantumCircuit\n",
    "from math import ceil, floor\n",
    "import pandas as pd\n",
    "from qiskit_ibm_provider import IBMProvider\n",
    "import time"
   ]
  },
  {
   "cell_type": "code",
   "execution_count": 2,
   "id": "87ac79bc-d7d8-4e01-8857-d67e607d6cac",
   "metadata": {},
   "outputs": [],
   "source": [
    "provider = IBMProvider()\n",
    "\n",
    "backend = provider.get_backend('ibmq_qasm_simulator')"
   ]
  },
  {
   "cell_type": "code",
   "execution_count": 3,
   "id": "40b08e5e-c59c-4994-9fc9-079c02c62d2b",
   "metadata": {
    "tags": []
   },
   "outputs": [],
   "source": [
    "class QuantumEntanglement:\n",
    "    \"\"\"\n",
    "    This class achieves quantum teleportation of either the |0> state or the\n",
    "    |1> state. It depends on the number of qubits used for the teleportation;\n",
    "    if 2 qubits are used then the teleportation is done using Bell states, if\n",
    "    more than 2 qubits are used then the teleportation is done using GHZ states.\n",
    "    \"\"\"\n",
    "    def __init__(self, qubits=2, beta_state='00', backend=backend):\n",
    "        \"\"\"\n",
    "        This function initializes the entire class.\n",
    "        \n",
    "        Parameters:\n",
    "        --------------\n",
    "        \n",
    "        qubits :              The number of qubits used for the teleportation\n",
    "        \n",
    "        initial_state :       The state that will be teleported\n",
    "        \n",
    "        teleportation_state : The entangled state that will be used to achieve\n",
    "                              the teleportation\n",
    "        \"\"\"\n",
    "        # Making the number of qubits a property of self\n",
    "        self.M = qubits\n",
    "        \n",
    "        # Creating a quantum circuit with M+1 qubits and M+1 classical bits\n",
    "        self.circuit = QuantumCircuit(self.M, self.M)\n",
    "        \n",
    "        # Establishing the state we will use for teleportation\n",
    "        self.teleportation_state = beta_state  # (either '00', '01', '10', or '11')\n",
    "        \n",
    "        # Set the backend\n",
    "        self.backend = backend\n",
    "        \n",
    "    def create_entangled_state(self):\n",
    "        \"\"\"\n",
    "        This function creates the entanglement between the last M-1 qubits.\n",
    "        \"\"\"\n",
    "        # We first consider which teleportation state we will be using, these are\n",
    "        # the 'beta' states\n",
    "        if self.teleportation_state[0] == '1':\n",
    "            self.circuit.x(0) # If x = 1, we change qubit 1 to the |1> state\n",
    "            \n",
    "        if self.teleportation_state[1] == '1':\n",
    "            for i in range(floor(self.M/2)):\n",
    "                self.circuit.x(i+ceil(self.M/2)) # If y = 1, we change the last floor(M/2) qubits to the |1> state\n",
    "        \n",
    "        # Performing the steps necessary for entanglement\n",
    "        self.circuit.h(0) # First apply the Hadamard gate to qubit 0\n",
    "        for qubit in range(self.M-1):\n",
    "            self.circuit.cx(0, qubit+1) # Then apply a C-Not gate between qubit 0 and all the remaining qubits\n",
    "        \n",
    "        # Measuring all qubits into classical bits (except for qubit M+1)\n",
    "        qubit_list = list(range(0, self.M))\n",
    "        self.circuit.measure(qubit_list, qubit_list)\n",
    "\n",
    "    def execute_circuit(self):\n",
    "        \"\"\"\n",
    "        This function executes the entire circuit built by the previous functions,\n",
    "        then runs it on the backend.\n",
    "        \"\"\"\n",
    "        if self.backend is None:\n",
    "            raise ValueError(\"Backend must be set before executing the circuit.\")\n",
    "        \n",
    "        # Calling all functions from above\n",
    "        self.create_entangled_state()\n",
    "        \n",
    "        # Running the circuit on the backend\n",
    "        result = self.backend.run(self.circuit, shots=10000).result()\n",
    "        \n",
    "        # Getting the measurement outcomes from the circuit\n",
    "        counts = result.get_counts(self.circuit)\n",
    "        \n",
    "        return counts # Return the counts dictionary"
   ]
  },
  {
   "cell_type": "code",
   "execution_count": 4,
   "id": "cf93422b-d753-4228-a7da-1121e984f6d8",
   "metadata": {
    "tags": []
   },
   "outputs": [],
   "source": [
    "def check_success(counts):\n",
    "    measurements = list(counts.values())\n",
    "    if len(measurements) == 2 and abs(measurements[0] - measurements[1]) < 200:\n",
    "        return True\n",
    "    return False"
   ]
  },
  {
   "cell_type": "code",
   "execution_count": 5,
   "id": "b7b4cd35-0379-4a85-99bd-900cf8ef08c1",
   "metadata": {
    "tags": []
   },
   "outputs": [
    {
     "name": "stdout",
     "output_type": "stream",
     "text": [
      "Starting: 2024-04-28 02:13:28\n",
      "Update: Completed 2 qubits at 2024-04-28 02:14:06\n",
      "Update: Completed 3 qubits at 2024-04-28 02:14:49\n",
      "Update: Completed 4 qubits at 2024-04-28 02:15:26\n",
      "Update: Completed 5 qubits at 2024-04-28 02:16:04\n",
      "Update: Completed 6 qubits at 2024-04-28 02:16:35\n",
      "Update: Completed 7 qubits at 2024-04-28 02:17:09\n",
      "Update: Completed 8 qubits at 2024-04-28 02:17:41\n",
      "Update: Completed 9 qubits at 2024-04-28 02:18:15\n",
      "Update: Completed 10 qubits at 2024-04-28 02:18:40\n",
      "Update: Completed 11 qubits at 2024-04-28 02:19:07\n",
      "Update: Completed 12 qubits at 2024-04-28 02:19:23\n",
      "Update: Completed 13 qubits at 2024-04-28 02:20:07\n",
      "Update: Completed 14 qubits at 2024-04-28 02:20:40\n",
      "Finished job: 2024-04-28 02:20:40\n"
     ]
    }
   ],
   "source": [
    "# M qubits in the teleportation, M+1 qubits total\n",
    "M = 15\n",
    "\n",
    "# Listing all different entanglement states\n",
    "beta_states = ['00', '10', '01', '11']\n",
    "qubits = list(range(2, M))\n",
    "\n",
    "data = []\n",
    "\n",
    "current_time = time.strftime(\"%Y-%m-%d %H:%M:%S\", time.localtime())\n",
    "print(f\"Starting: {current_time}\")\n",
    "\n",
    "for qubit in qubits:\n",
    "    for beta in beta_states:\n",
    "        # Create a QuantumEntanglement object for each combination\n",
    "        entanglement = QuantumEntanglement(qubits=qubit, beta_state=beta)\n",
    "        \n",
    "        # Execute the circuit and get counts\n",
    "        counts = entanglement.execute_circuit()\n",
    "        \n",
    "        # Check for success of entanglement\n",
    "        success = check_success(counts)\n",
    "        \n",
    "        for measurement, frequency in counts.items():\n",
    "            data.append({\n",
    "                'Qubits': qubit,\n",
    "                'Beta State': beta,\n",
    "                'Success': success,\n",
    "                'Measurement': measurement,\n",
    "                'Frequency': frequency\n",
    "            })\n",
    "\n",
    "    current_time = time.strftime(\"%Y-%m-%d %H:%M:%S\", time.localtime())\n",
    "    print(f\"Update: Completed {qubit} qubits at {current_time}\")\n",
    "        \n",
    "current_time = time.strftime(\"%Y-%m-%d %H:%M:%S\", time.localtime())\n",
    "print(f\"Finished job: {current_time}\")"
   ]
  },
  {
   "cell_type": "code",
   "execution_count": 6,
   "id": "eaa8e14d-7eb4-4312-9eb8-dee1cbad2247",
   "metadata": {
    "tags": []
   },
   "outputs": [],
   "source": [
    "# Converting the dictionary to a pandas DataFrame for better visualization and analysis\n",
    "df = pd.DataFrame(data)\n",
    "\n",
    "# To save the DataFrame to a CSV file\n",
    "df.to_csv('entanglement_results_simulator.txt', index=False)"
   ]
  },
  {
   "cell_type": "code",
   "execution_count": null,
   "id": "e7e762b0-2774-483d-8210-51cbd3fd19f1",
   "metadata": {},
   "outputs": [],
   "source": []
  }
 ],
 "metadata": {
  "kernelspec": {
   "display_name": "Qiskit v1.0.2 (ipykernel)",
   "language": "python",
   "name": "python3"
  },
  "language_info": {
   "codemirror_mode": {
    "name": "ipython",
    "version": 3
   },
   "file_extension": ".py",
   "mimetype": "text/x-python",
   "name": "python",
   "nbconvert_exporter": "python",
   "pygments_lexer": "ipython3",
   "version": "3.10.8"
  },
  "widgets": {
   "application/vnd.jupyter.widget-state+json": {
    "state": {},
    "version_major": 2,
    "version_minor": 0
   }
  }
 },
 "nbformat": 4,
 "nbformat_minor": 5
}
