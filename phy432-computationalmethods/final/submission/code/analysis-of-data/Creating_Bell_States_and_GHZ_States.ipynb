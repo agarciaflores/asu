{
 "cells": [
  {
   "cell_type": "code",
   "execution_count": 7,
   "id": "0984d2ad-b837-4695-a2cd-d66b93e5234a",
   "metadata": {},
   "outputs": [],
   "source": [
    "from qiskit import QuantumRegister, ClassicalRegister\n",
    "from qiskit import QuantumCircuit, transpile"
   ]
  },
  {
   "cell_type": "markdown",
   "id": "6e818891-de83-4400-95df-c3ace8e997de",
   "metadata": {},
   "source": [
    "This is the first Bell State which is denoted by $$|\\beta_{00}\\rangle = \\frac{1}{\\sqrt{2}}(|00\\rangle+|11\\rangle)$$"
   ]
  },
  {
   "cell_type": "code",
   "execution_count": 8,
   "id": "71b826fe-4157-4978-b94b-dd598543a4ca",
   "metadata": {},
   "outputs": [],
   "source": [
    "q = QuantumRegister(2,'q')\n",
    "c = ClassicalRegister(2,'c')\n",
    "\n",
    "def firstBellState():\n",
    "    circuit =  QuantumCircuit(q,c)\n",
    "    \n",
    "    circuit.h(q[0]) #Hadamard gate\n",
    "    circuit.cx(q[0],q[1]) #CNOT gate\n",
    "    circuit.measure(q,c) # Qubit Measurement\n",
    "    \n",
    "    print(circuit)"
   ]
  },
  {
   "cell_type": "markdown",
   "id": "78226dc4-c5ca-4317-88c9-7dadf5af8d7b",
   "metadata": {},
   "source": [
    "This is the second Bell State which is denoted by $$|\\beta_{10}\\rangle = \\frac{1}{\\sqrt{2}}(|00\\rangle-|11\\rangle)$$"
   ]
  },
  {
   "cell_type": "code",
   "execution_count": 9,
   "id": "501cf3ed-98c1-41d5-b4fd-2a75a7988bd4",
   "metadata": {},
   "outputs": [],
   "source": [
    "def secondBellState():\n",
    "    circuit = QuantumCircuit(q,c)\n",
    "\n",
    "    circuit.x(q[0]) # Pauli-X gate \n",
    "    circuit.h(q[0]) # Hadamard gate \n",
    "    circuit.cx(q[0],q[1]) # CNOT gate\n",
    "    circuit.measure(q,c) # Qubit Measurment\n",
    "\n",
    "    print(circuit)"
   ]
  },
  {
   "cell_type": "markdown",
   "id": "f0cce7be-d936-432b-8f98-cd662aafb158",
   "metadata": {},
   "source": [
    "This is the third Bell State which is denoted by $$|\\beta_{01}\\rangle = \\frac{1}{\\sqrt{2}}(|01\\rangle+|10\\rangle)$$"
   ]
  },
  {
   "cell_type": "code",
   "execution_count": 10,
   "id": "88291d3c-30c9-459c-9326-aba66c92f611",
   "metadata": {},
   "outputs": [],
   "source": [
    "def thirdBellState():\n",
    "    circuit = QuantumCircuit(q,c)\n",
    "\n",
    "    circuit.x(q[1]) # Pauli-X gate \n",
    "    circuit.h(q[0]) # Hadamard gate \n",
    "    circuit.cx(q[0],q[1]) # CNOT gate\n",
    "    circuit.measure(q,c) # Qubit Measurment\n",
    "\n",
    "    print(circuit)"
   ]
  },
  {
   "cell_type": "markdown",
   "id": "702e26d6-2aed-4d69-8bff-d543217fd7a5",
   "metadata": {},
   "source": [
    "This is the fourth Bell State which is denoted by $$|\\beta_{11}\\rangle = \\frac{1}{\\sqrt{2}}(|01\\rangle-|10\\rangle)$$"
   ]
  },
  {
   "cell_type": "code",
   "execution_count": 11,
   "id": "8ab99dda-b6a8-489c-9b31-a0eb153c6830",
   "metadata": {},
   "outputs": [],
   "source": [
    "def fourthBellState():\n",
    "    circuit = QuantumCircuit(q,c)\n",
    "\n",
    "    circuit.x(q[1]) # Pauli-X gate \n",
    "    circuit.h(q[0]) # Hadamard gate\n",
    "    circuit.z(q[0]) # Pauli-Z gate\n",
    "    circuit.z(q[1]) # Pauli-Z  gate \n",
    "    circuit.cx(q[0],q[1]) # CNOT gate\n",
    "    circuit.measure(q,c) # Qubit Measurment\n",
    "\n",
    "    print(circuit)"
   ]
  },
  {
   "cell_type": "code",
   "execution_count": 12,
   "id": "2697d346-b482-4764-9216-179941bb61af",
   "metadata": {},
   "outputs": [
    {
     "name": "stdout",
     "output_type": "stream",
     "text": [
      "Creating first Bell State:\n",
      "\n",
      "     ┌───┐     ┌─┐   \n",
      "q_0: ┤ H ├──■──┤M├───\n",
      "     └───┘┌─┴─┐└╥┘┌─┐\n",
      "q_1: ─────┤ X ├─╫─┤M├\n",
      "          └───┘ ║ └╥┘\n",
      "c: 2/═══════════╩══╩═\n",
      "                0  1 \n",
      "\n",
      "Creating second Bell State:\n",
      "\n",
      "     ┌───┐┌───┐     ┌─┐   \n",
      "q_0: ┤ X ├┤ H ├──■──┤M├───\n",
      "     └───┘└───┘┌─┴─┐└╥┘┌─┐\n",
      "q_1: ──────────┤ X ├─╫─┤M├\n",
      "               └───┘ ║ └╥┘\n",
      "c: 2/════════════════╩══╩═\n",
      "                     0  1 \n",
      "\n",
      "Creating third Bell State:\n",
      "\n",
      "     ┌───┐     ┌─┐   \n",
      "q_0: ┤ H ├──■──┤M├───\n",
      "     ├───┤┌─┴─┐└╥┘┌─┐\n",
      "q_1: ┤ X ├┤ X ├─╫─┤M├\n",
      "     └───┘└───┘ ║ └╥┘\n",
      "c: 2/═══════════╩══╩═\n",
      "                0  1 \n",
      "\n",
      "Creating fourth Bell State:\n",
      "\n",
      "     ┌───┐┌───┐     ┌─┐   \n",
      "q_0: ┤ H ├┤ Z ├──■──┤M├───\n",
      "     ├───┤├───┤┌─┴─┐└╥┘┌─┐\n",
      "q_1: ┤ X ├┤ Z ├┤ X ├─╫─┤M├\n",
      "     └───┘└───┘└───┘ ║ └╥┘\n",
      "c: 2/════════════════╩══╩═\n",
      "                     0  1 \n"
     ]
    }
   ],
   "source": [
    "print(\"Creating first Bell State:\\n\")\n",
    "firstBellState()\n",
    "print(\"\\nCreating second Bell State:\\n\")\n",
    "secondBellState()\n",
    "print(\"\\nCreating third Bell State:\\n\")\n",
    "thirdBellState()\n",
    "print(\"\\nCreating fourth Bell State:\\n\")\n",
    "fourthBellState()"
   ]
  },
  {
   "cell_type": "markdown",
   "id": "7f9098d8-7382-463e-85bf-32a4e3e00907",
   "metadata": {},
   "source": [
    "This is a configuration of the Greenberger–Horne–Zeilinger (GHZ) state"
   ]
  },
  {
   "cell_type": "code",
   "execution_count": 1,
   "id": "12d4b374-6133-4be6-b68d-78123a140f89",
   "metadata": {},
   "outputs": [
    {
     "name": "stdout",
     "output_type": "stream",
     "text": [
      "     ┌───┐           ░       ┌─┐\n",
      "q_0: ┤ H ├──■────■───░───────┤M├\n",
      "     └───┘┌─┴─┐  │   ░    ┌─┐└╥┘\n",
      "q_1: ─────┤ X ├──■───░────┤M├─╫─\n",
      "          └───┘┌─┴─┐ ░ ┌─┐└╥┘ ║ \n",
      "q_2: ──────────┤ X ├─░─┤M├─╫──╫─\n",
      "               └───┘ ░ └╥┘ ║  ║ \n",
      "q_3: ───────────────────╫──╫──╫─\n",
      "                        ║  ║  ║ \n",
      "c: 4/═══════════════════╩══╩══╩═\n",
      "                        2  1  0 \n"
     ]
    }
   ],
   "source": [
    "from qiskit import QuantumRegister, ClassicalRegister, QuantumCircuit\n",
    "from numpy import pi\n",
    "\n",
    "qreg_q = QuantumRegister(4, 'q')\n",
    "creg_c = ClassicalRegister(4, 'c')\n",
    "circuit = QuantumCircuit(qreg_q, creg_c)\n",
    "\n",
    "circuit.h(qreg_q[0]) #Hadamard gate\n",
    "circuit.cx(qreg_q[0], qreg_q[1]) # CNOT gate\n",
    "circuit.ccx(qreg_q[0], qreg_q[1], qreg_q[2]) # CNOT gate\n",
    "circuit.barrier(qreg_q[0]) # Barrier\n",
    "circuit.barrier(qreg_q[1]) # Barrier\n",
    "circuit.barrier(qreg_q[2]) # Barrier\n",
    "circuit.measure(qreg_q[2], creg_c[2]) # Qubit Measurment\n",
    "circuit.measure(qreg_q[1], creg_c[1]) # Qubit Measurment\n",
    "circuit.measure(qreg_q[0], creg_c[0]) # Qubit Measurment\n",
    "\n",
    "print (circuit)"
   ]
  },
  {
   "cell_type": "markdown",
   "id": "9bea037e-ce6e-4705-863e-acc054ba681c",
   "metadata": {},
   "source": [
    "Here is another representation of a Greenberger-Horne-Zeilinger (GHZ) state that has been optimized to reduce circuit depth."
   ]
  },
  {
   "cell_type": "code",
   "execution_count": 3,
   "id": "923a3996-0391-4c98-9450-d953c67edec3",
   "metadata": {},
   "outputs": [
    {
     "name": "stdout",
     "output_type": "stream",
     "text": [
      "     ┌───┐               ┌─┐                     \n",
      "q_0: ┤ H ├──■────■────■──┤M├─────────────────────\n",
      "     └───┘  │    │  ┌─┴─┐└╥┘┌─┐                  \n",
      "q_1: ───────┼────┼──┤ X ├─╫─┤M├──────────────────\n",
      "            │  ┌─┴─┐└───┘ ║ └╥┘┌─┐               \n",
      "q_2: ───────┼──┤ X ├──■───╫──╫─┤M├───────────────\n",
      "            │  └───┘┌─┴─┐ ║  ║ └╥┘┌─┐            \n",
      "q_3: ───────┼───────┤ X ├─╫──╫──╫─┤M├────────────\n",
      "          ┌─┴─┐     └───┘ ║  ║  ║ └╥┘┌─┐         \n",
      "q_4: ─────┤ X ├──■────■───╫──╫──╫──╫─┤M├─────────\n",
      "          └───┘  │  ┌─┴─┐ ║  ║  ║  ║ └╥┘┌─┐      \n",
      "q_5: ────────────┼──┤ X ├─╫──╫──╫──╫──╫─┤M├──────\n",
      "               ┌─┴─┐└───┘ ║  ║  ║  ║  ║ └╥┘┌─┐   \n",
      "q_6: ──────────┤ X ├──■───╫──╫──╫──╫──╫──╫─┤M├───\n",
      "               └───┘┌─┴─┐ ║  ║  ║  ║  ║  ║ └╥┘┌─┐\n",
      "q_7: ───────────────┤ X ├─╫──╫──╫──╫──╫──╫──╫─┤M├\n",
      "                    └───┘ ║  ║  ║  ║  ║  ║  ║ └╥┘\n",
      "c: 4/═════════════════════╩══╩══╩══╩══╩══╩══╩══╩═\n",
      "                          0  1  2  3  3  3  3  3 \n"
     ]
    }
   ],
   "source": [
    "from qiskit import QuantumRegister, ClassicalRegister, QuantumCircuit\n",
    "from numpy import pi\n",
    "\n",
    "qreg_q = QuantumRegister(8, 'q')\n",
    "creg_c = ClassicalRegister(4, 'c')\n",
    "circuit = QuantumCircuit(qreg_q, creg_c)\n",
    "\n",
    "circuit.h(qreg_q[0]) #Hadamard gate\n",
    "circuit.cx(qreg_q[0], qreg_q[4]) # CNOT gate\n",
    "circuit.cx(qreg_q[0], qreg_q[2]) # CNOT gate\n",
    "circuit.cx(qreg_q[4], qreg_q[6]) # CNOT gate\n",
    "circuit.cx(qreg_q[0], qreg_q[1]) # CNOT gate\n",
    "circuit.cx(qreg_q[2], qreg_q[3]) # CNOT gate\n",
    "circuit.cx(qreg_q[4], qreg_q[5]) # CNOT gate\n",
    "circuit.cx(qreg_q[6], qreg_q[7]) # CNOT gate\n",
    "circuit.measure(qreg_q[0], creg_c[0]) # Qubit Measurment\n",
    "circuit.measure(qreg_q[1], creg_c[1]) # Qubit Measurment\n",
    "circuit.measure(qreg_q[2], creg_c[2]) # Qubit Measurment\n",
    "circuit.measure(qreg_q[3], creg_c[3]) # Qubit Measurment\n",
    "circuit.measure(qreg_q[4], creg_c[3]) # Qubit Measurment\n",
    "circuit.measure(qreg_q[5], creg_c[3]) # Qubit Measurment\n",
    "circuit.measure(qreg_q[6], creg_c[3]) # Qubit Measurment\n",
    "circuit.measure(qreg_q[7], creg_c[3]) # Qubit Measurment\n",
    "\n",
    "print (circuit)"
   ]
  },
  {
   "cell_type": "markdown",
   "id": "9033c86e-dda9-451a-9506-85364256c2b6",
   "metadata": {},
   "source": [
    "Creating M-States "
   ]
  },
  {
   "cell_type": "code",
   "execution_count": 4,
   "id": "e0faacb9-2124-4085-a84b-a9ebb3a491f3",
   "metadata": {
    "tags": []
   },
   "outputs": [],
   "source": [
    "from qiskit import transpile\n",
    "from qiskit import QuantumCircuit\n",
    "from qiskit_aer import AerSimulator\n",
    "from qiskit.visualization import plot_histogram"
   ]
  },
  {
   "cell_type": "code",
   "execution_count": 6,
   "id": "46f20477-ce71-4399-9b69-bf7ad62debc8",
   "metadata": {
    "tags": []
   },
   "outputs": [],
   "source": [
    "from qiskit_ibm_runtime.fake_provider import FakeVigo\n",
    "device_backend = FakeVigo()"
   ]
  },
  {
   "cell_type": "code",
   "execution_count": 7,
   "id": "ab57444a-fe84-4d69-8cce-2df8897cebee",
   "metadata": {
    "tags": []
   },
   "outputs": [
    {
     "data": {
      "image/png": "[encoded data removed]",
      "text/plain": [
       "<Figure size 700x500 with 1 Axes>"
      ]
     },
     "execution_count": 7,
     "metadata": {},
     "output_type": "execute_result"
    }
   ],
   "source": [
    "   # Construct quantum circuit\n",
    "circ = QuantumCircuit(3, 3)\n",
    "circ.h(0)\n",
    "circ.cx(0, 1)\n",
    "circ.cx(1, 2)\n",
    "circ.measure([0, 1, 2], [0, 1, 2])\n",
    "\n",
    "sim_ideal = AerSimulator()\n",
    "\n",
    "# Execute and get counts\n",
    "result = sim_ideal.run(transpile(circ, sim_ideal)).result()\n",
    "counts = result.get_counts(0)\n",
    "plot_histogram(counts, title='Ideal counts for 3-qubit GHZ state')"
   ]
  },
  {
   "cell_type": "code",
   "execution_count": 8,
   "id": "390e0014-b513-482b-b249-c396d01a50d0",
   "metadata": {
    "tags": []
   },
   "outputs": [],
   "source": [
    "sim_vigo = AerSimulator.from_backend(device_backend)"
   ]
  },
  {
   "cell_type": "code",
   "execution_count": 9,
   "id": "5c763226-9f59-4e32-b4c7-eec542906eda",
   "metadata": {
    "tags": []
   },
   "outputs": [
    {
     "data": {
      "image/png": "[encoded data removed]",
      "text/plain": [
       "<Figure size 700x500 with 1 Axes>"
      ]
     },
     "execution_count": 9,
     "metadata": {},
     "output_type": "execute_result"
    }
   ],
   "source": [
    "# Transpile the circuit for the noisy basis gates\n",
    "tcirc = transpile(circ, sim_vigo)\n",
    "\n",
    "# Execute noisy simulation and get counts\n",
    "result_noise = sim_vigo.run(tcirc).result()\n",
    "counts_noise = result_noise.get_counts(0)\n",
    "plot_histogram(counts_noise,\n",
    "               title=\"Counts for 3-qubit GHZ state with device noise model\")"
   ]
  },
  {
   "cell_type": "code",
   "execution_count": null,
   "id": "7c624dc9-dd0c-4b71-988e-e3d04ead2e38",
   "metadata": {},
   "outputs": [],
   "source": []
  }
 ],
 "metadata": {
  "kernelspec": {
   "display_name": "Qiskit v1.0.2 (ipykernel)",
   "language": "python",
   "name": "python3"
  },
  "language_info": {
   "codemirror_mode": {
    "name": "ipython",
    "version": 3
   },
   "file_extension": ".py",
   "mimetype": "text/x-python",
   "name": "python",
   "nbconvert_exporter": "python",
   "pygments_lexer": "ipython3",
   "version": "3.10.8"
  },
  "widgets": {
   "application/vnd.jupyter.widget-state+json": {
    "state": {},
    "version_major": 2,
    "version_minor": 0
   }
  }
 },
 "nbformat": 4,
 "nbformat_minor": 5
}
