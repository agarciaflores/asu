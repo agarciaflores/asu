{
 "cells": [
  {
   "cell_type": "code",
   "execution_count": 1,
   "id": "1e4eadef-e459-4c09-bc43-0cbad5121e82",
   "metadata": {
    "tags": []
   },
   "outputs": [
    {
     "name": "stderr",
     "output_type": "stream",
     "text": [
      "/opt/conda/lib/python3.10/site-packages/pandas/core/computation/expressions.py:21: UserWarning: Pandas requires version '2.8.4' or newer of 'numexpr' (version '2.8.3' currently installed).\n",
      "  from pandas.core.computation.check import NUMEXPR_INSTALLED\n",
      "/opt/conda/lib/python3.10/site-packages/pandas/core/arrays/masked.py:60: UserWarning: Pandas requires version '1.3.6' or newer of 'bottleneck' (version '1.3.5' currently installed).\n",
      "  from pandas.core import (\n"
     ]
    }
   ],
   "source": [
    "from qiskit import QuantumCircuit\n",
    "from qiskit_aer import AerSimulator\n",
    "import qiskit_aer.noise as noise\n",
    "from qiskit_aer.noise import NoiseModel\n",
    "from qiskit_ibm_provider import IBMProvider\n",
    "\n",
    "import numpy as np\n",
    "import pandas as pd\n",
    "import time"
   ]
  },
  {
   "cell_type": "code",
   "execution_count": 2,
   "id": "ab41363a-39e7-4a73-9e4c-f9aaaacccf23",
   "metadata": {
    "tags": []
   },
   "outputs": [],
   "source": [
    "provider = IBMProvider()\n",
    "\n",
    "# Get the backend (quantum device)\n",
    "backend_qc = provider.get_backend('ibm_kyoto')"
   ]
  },
  {
   "cell_type": "code",
   "execution_count": 3,
   "id": "74561bd1-4361-42a4-a60b-76487d7e5963",
   "metadata": {
    "tags": []
   },
   "outputs": [],
   "source": [
    "# Get the noise model from the backend\n",
    "noise_model = NoiseModel.from_backend(backend_qc)\n",
    "\n",
    "# Get coupling map from the backend\n",
    "coupling_map = backend_qc.configuration().coupling_map\n",
    "\n",
    "prob_h = 0.002  # Hypothetical error rate for H gate, slightly higher than typical single-qubit gate errors\n",
    "prob_cz = 0.015  # Hypothetical error rate for CZ, estimated from CX gate error rates\n",
    "\n",
    "error_h = noise.depolarizing_error(prob_h, 1) # Creating a 1 qubit error for the H gate\n",
    "error_cz = noise.depolarizing_error(prob_cz, 2) # Creating a 2 qubit error for the CZ and CX gates\n",
    "\n",
    "# Add these to the noise model\n",
    "noise_model.add_all_qubit_quantum_error(error_h, ['h'])\n",
    "noise_model.add_all_qubit_quantum_error(error_cz, ['cz', 'cx'])\n",
    "\n",
    "# Fetching the other gates from the backend\n",
    "basis_gates = noise_model.basis_gates\n",
    "\n",
    "# Perform a noise simulation\n",
    "backend = AerSimulator(noise_model=noise_model,\n",
    "                       coupling_map=coupling_map,\n",
    "                       basis_gates=basis_gates)"
   ]
  },
  {
   "cell_type": "code",
   "execution_count": 4,
   "id": "efda1c8e-240c-44e5-a7e7-16bf45bf5dbc",
   "metadata": {
    "tags": []
   },
   "outputs": [],
   "source": [
    "class QKD:\n",
    "    def __init__(self, qubits, backend=backend):\n",
    "        self.bits = qubits\n",
    "        self.backend = backend\n",
    "\n",
    "    def generate_random_bits(self):\n",
    "        circuit = QuantumCircuit(1, 1)\n",
    "        circuit.h(0)\n",
    "        circuit.measure(0, 0)\n",
    "        job = self.backend.run(circuit, shots=self.bits, memory=True)\n",
    "        result = job.result()\n",
    "        memory = result.get_memory(circuit)\n",
    "        random_bits = [int(m) for m in memory]\n",
    "        return random_bits\n",
    "    \n",
    "    def alice_sending(self):\n",
    "        alice_bits = self.generate_random_bits()\n",
    "        alice_bases = self.generate_random_bits()\n",
    "        alice_circuit = QuantumCircuit(self.bits)\n",
    "        for i in range(self.bits):\n",
    "            if alice_bits[i] == 1:\n",
    "                alice_circuit.x(i)  # Apply X-gate if the bit is 1\n",
    "            if alice_bases[i] == 1:\n",
    "                alice_circuit.h(i)  # Apply H-gate if the base is 1\n",
    "        return alice_bits, alice_bases, alice_circuit\n",
    "    \n",
    "    def bob_receiving(self):\n",
    "        alice_bits, alice_bases, alice_circuit = self.alice_sending()\n",
    "        bob_bases = self.generate_random_bits()\n",
    "        for i in range(self.bits):\n",
    "            if bob_bases[i] == 1:\n",
    "                alice_circuit.h(i)\n",
    "        alice_circuit.measure_all()\n",
    "        return alice_bits, alice_bases, bob_bases, alice_circuit\n",
    "        \n",
    "    def generate_key(self):\n",
    "        alice_bits, alice_bases, bob_bases, final_circuit = self.bob_receiving()\n",
    "        result = self.backend.run(final_circuit, shots=1).result()\n",
    "        measurements = result.get_counts()\n",
    "        bob_bits = [int(bit) for bit in list(measurements.keys())[0][::-1]]\n",
    "\n",
    "        alice_key = []\n",
    "        bob_key = []\n",
    "        for i in range(self.bits):\n",
    "            if alice_bases[i] == bob_bases[i]:\n",
    "                alice_key.append(alice_bits[i])\n",
    "                bob_key.append(bob_bits[i])\n",
    "        return alice_key, bob_key"
   ]
  },
  {
   "cell_type": "code",
   "execution_count": 5,
   "id": "cf96cb33-25b5-465e-bafb-b3cdcde072d6",
   "metadata": {
    "tags": []
   },
   "outputs": [
    {
     "name": "stdout",
     "output_type": "stream",
     "text": [
      "Starting: 21:39:30\n",
      "2 qubits done at: 21:40:30\n",
      "3 qubits done at: 21:41:27\n",
      "4 qubits done at: 21:42:23\n",
      "5 qubits done at: 21:43:20\n",
      "6 qubits done at: 21:44:16\n",
      "7 qubits done at: 21:45:12\n",
      "8 qubits done at: 21:46:10\n",
      "9 qubits done at: 21:47:08\n",
      "10 qubits done at: 21:48:04\n",
      "11 qubits done at: 21:49:00\n",
      "12 qubits done at: 21:49:56\n",
      "13 qubits done at: 21:50:53\n",
      "14 qubits done at: 21:51:49\n",
      "15 qubits done at: 21:52:46\n",
      "16 qubits done at: 21:53:44\n",
      "17 qubits done at: 21:54:41\n",
      "18 qubits done at: 21:55:41\n",
      "19 qubits done at: 21:56:43\n",
      "20 qubits done at: 21:57:42\n",
      "21 qubits done at: 21:58:47\n",
      "22 qubits done at: 21:59:54\n",
      "23 qubits done at: 22:01:15\n",
      "24 qubits done at: 22:02:54\n",
      "25 qubits done at: 22:05:16\n",
      "Finished: 22:05:16\n"
     ]
    }
   ],
   "source": [
    "num_qubits = list(range(2, 26))\n",
    "results = []\n",
    "\n",
    "current_time = time.strftime(\"%H:%M:%S\", time.localtime())\n",
    "print(f\"Starting: {current_time}\")\n",
    "\n",
    "for qubits in num_qubits:\n",
    "    mean_length = []\n",
    "    successes = 0\n",
    "    for _ in range(10):\n",
    "        qkd_instance = QKD(qubits=qubits)\n",
    "        alice_key, bob_key = qkd_instance.generate_key()\n",
    "        mean_length.append(len(alice_key))\n",
    "        if alice_key == bob_key:\n",
    "            successes += 1\n",
    "    \n",
    "    average_length = np.mean(mean_length)  # Calculate the average key length\n",
    "    success_rate = successes / 10  # Calculate the success rate\n",
    "\n",
    "    # Store the results in a list of dictionaries\n",
    "    results.append({\n",
    "        'Qubits': qubits,\n",
    "        'Average Key Length': average_length,\n",
    "        'Success Rate': success_rate\n",
    "    })\n",
    "    \n",
    "    current_time = time.strftime(\"%H:%M:%S\", time.localtime())\n",
    "    print(f\"{qubits} qubits done at: {current_time}\")\n",
    "    \n",
    "current_time = time.strftime(\"%H:%M:%S\", time.localtime())\n",
    "print(f\"Finished: {current_time}\")"
   ]
  },
  {
   "cell_type": "code",
   "execution_count": 6,
   "id": "b31f7568-f15d-4a30-816f-ef8912c89a20",
   "metadata": {
    "tags": []
   },
   "outputs": [],
   "source": [
    "df = pd.DataFrame(results)\n",
    "\n",
    "# Save the DataFrame to a txt file\n",
    "df.to_csv('qkd_results_noise.txt', index=False)"
   ]
  },
  {
   "cell_type": "code",
   "execution_count": null,
   "id": "b53bbecb-0964-4bc1-862c-f0b428c3e3fa",
   "metadata": {},
   "outputs": [],
   "source": []
  }
 ],
 "metadata": {
  "kernelspec": {
   "display_name": "Qiskit v1.0.2 (ipykernel)",
   "language": "python",
   "name": "python3"
  },
  "language_info": {
   "codemirror_mode": {
    "name": "ipython",
    "version": 3
   },
   "file_extension": ".py",
   "mimetype": "text/x-python",
   "name": "python",
   "nbconvert_exporter": "python",
   "pygments_lexer": "ipython3",
   "version": "3.10.8"
  },
  "widgets": {
   "application/vnd.jupyter.widget-state+json": {
    "state": {},
    "version_major": 2,
    "version_minor": 0
   }
  }
 },
 "nbformat": 4,
 "nbformat_minor": 5
}
