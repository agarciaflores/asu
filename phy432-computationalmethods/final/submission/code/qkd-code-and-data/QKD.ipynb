{
 "cells": [
  {
   "cell_type": "code",
   "execution_count": 1,
   "id": "079022a0-9edf-4ecf-8eb3-bdbce48c84b5",
   "metadata": {},
   "outputs": [
    {
     "name": "stderr",
     "output_type": "stream",
     "text": [
      "/opt/conda/lib/python3.10/site-packages/pandas/core/computation/expressions.py:21: UserWarning: Pandas requires version '2.8.4' or newer of 'numexpr' (version '2.8.3' currently installed).\n",
      "  from pandas.core.computation.check import NUMEXPR_INSTALLED\n",
      "/opt/conda/lib/python3.10/site-packages/pandas/core/arrays/masked.py:60: UserWarning: Pandas requires version '1.3.6' or newer of 'bottleneck' (version '1.3.5' currently installed).\n",
      "  from pandas.core import (\n"
     ]
    }
   ],
   "source": [
    "# Importing standard Qiskit libraries\n",
    "from qiskit import QuantumCircuit\n",
    "from qiskit_ibm_provider import IBMProvider\n",
    "\n",
    "import numpy as np\n",
    "import pandas as pd\n",
    "import time"
   ]
  },
  {
   "cell_type": "code",
   "execution_count": 2,
   "id": "b5ba6fc3-c4b5-4366-a7d8-a8170aee90a4",
   "metadata": {
    "tags": []
   },
   "outputs": [],
   "source": [
    "provider = IBMProvider()\n",
    "\n",
    "backend = provider.get_backend('ibmq_qasm_simulator')"
   ]
  },
  {
   "cell_type": "code",
   "execution_count": 3,
   "id": "800d8d5f-ac77-4a23-85dd-67cb4c8a2af0",
   "metadata": {
    "tags": []
   },
   "outputs": [],
   "source": [
    "class QKD:\n",
    "    def __init__(self, qubits, backend=backend):\n",
    "        self.bits = qubits\n",
    "        self.backend = backend\n",
    "\n",
    "    def generate_random_bits(self):\n",
    "        circuit = QuantumCircuit(1, 1)\n",
    "        circuit.h(0)\n",
    "        circuit.measure(0, 0)\n",
    "        job = self.backend.run(circuit, shots=self.bits, memory=True)\n",
    "        result = job.result()\n",
    "        memory = result.get_memory(circuit)\n",
    "        random_bits = [int(m) for m in memory]\n",
    "        return random_bits\n",
    "    \n",
    "    def alice_sending(self):\n",
    "        alice_bits = self.generate_random_bits()\n",
    "        alice_bases = self.generate_random_bits()\n",
    "        alice_circuit = QuantumCircuit(self.bits)\n",
    "        for i in range(self.bits):\n",
    "            if alice_bits[i] == 1:\n",
    "                alice_circuit.x(i)  # Apply X-gate if the bit is 1\n",
    "            if alice_bases[i] == 1:\n",
    "                alice_circuit.h(i)  # Apply H-gate if the base is 1\n",
    "        return alice_bits, alice_bases, alice_circuit\n",
    "    \n",
    "    def bob_receiving(self):\n",
    "        alice_bits, alice_bases, alice_circuit = self.alice_sending()\n",
    "        bob_bases = self.generate_random_bits()\n",
    "        for i in range(self.bits):\n",
    "            if bob_bases[i] == 1:\n",
    "                alice_circuit.h(i)\n",
    "        alice_circuit.measure_all()\n",
    "        return alice_bits, alice_bases, bob_bases, alice_circuit\n",
    "        \n",
    "    def generate_key(self):\n",
    "        alice_bits, alice_bases, bob_bases, final_circuit = self.bob_receiving()\n",
    "        result = self.backend.run(final_circuit, shots=1).result()\n",
    "        measurements = result.get_counts()\n",
    "        bob_bits = [int(bit) for bit in list(measurements.keys())[0][::-1]]\n",
    "\n",
    "        alice_key = []\n",
    "        bob_key = []\n",
    "        for i in range(self.bits):\n",
    "            if alice_bases[i] == bob_bases[i]:\n",
    "                alice_key.append(alice_bits[i])\n",
    "                bob_key.append(bob_bits[i])\n",
    "        return alice_key, bob_key"
   ]
  },
  {
   "cell_type": "code",
   "execution_count": 4,
   "id": "01da426d-5a53-4036-8e34-471f98224bcc",
   "metadata": {
    "tags": []
   },
   "outputs": [],
   "source": [
    "# # Assume the backend is properly initialized if needed, like AerSimulator\n",
    "# num_bits = 15\n",
    "# qkd_instance = QKD(qubits=num_bits)\n",
    "\n",
    "# # Generate keys\n",
    "# alice_key, bob_key = qkd_instance.generate_key()\n",
    "# print(\"Alice's Key:\", alice_key)\n",
    "# print(\"Bob's Key:\", bob_key)"
   ]
  },
  {
   "cell_type": "code",
   "execution_count": 5,
   "id": "fffb6f6e-b6f5-4a50-8f80-39b60fe4fe5d",
   "metadata": {
    "tags": []
   },
   "outputs": [
    {
     "name": "stdout",
     "output_type": "stream",
     "text": [
      "Starting: 05:39:53\n",
      "2 qubits done at: 05:43:18\n",
      "3 qubits done at: 05:46:22\n",
      "4 qubits done at: 05:49:05\n",
      "5 qubits done at: 05:51:54\n",
      "6 qubits done at: 05:55:07\n",
      "7 qubits done at: 05:58:09\n",
      "8 qubits done at: 06:01:34\n",
      "9 qubits done at: 06:05:22\n",
      "10 qubits done at: 06:08:37\n",
      "11 qubits done at: 06:11:37\n",
      "12 qubits done at: 06:14:45\n",
      "13 qubits done at: 06:17:55\n",
      "14 qubits done at: 06:21:17\n",
      "15 qubits done at: 06:24:25\n",
      "16 qubits done at: 06:27:22\n",
      "17 qubits done at: 06:30:26\n",
      "18 qubits done at: 06:33:29\n",
      "19 qubits done at: 06:36:27\n",
      "20 qubits done at: 06:40:24\n",
      "21 qubits done at: 06:43:40\n",
      "22 qubits done at: 06:47:24\n",
      "23 qubits done at: 06:51:08\n",
      "24 qubits done at: 06:54:32\n",
      "25 qubits done at: 06:58:04\n",
      "Finished: 06:58:04\n"
     ]
    }
   ],
   "source": [
    "num_qubits = list(range(2, 26))\n",
    "results = []\n",
    "\n",
    "current_time = time.strftime(\"%H:%M:%S\", time.localtime())\n",
    "print(f\"Starting: {current_time}\")\n",
    "\n",
    "for qubits in num_qubits:\n",
    "    mean_length = []\n",
    "    successes = 0\n",
    "    for _ in range(10):\n",
    "        qkd_instance = QKD(qubits=qubits)\n",
    "        alice_key, bob_key = qkd_instance.generate_key()\n",
    "        mean_length.append(len(alice_key))\n",
    "        if alice_key == bob_key:\n",
    "            successes += 1\n",
    "    \n",
    "    average_length = np.mean(mean_length)  # Calculate the average key length\n",
    "    success_rate = successes / 10  # Calculate the success rate\n",
    "\n",
    "    # Store the results in a list of dictionaries\n",
    "    results.append({\n",
    "        'Qubits': qubits,\n",
    "        'Average Key Length': average_length,\n",
    "        'Success Rate': success_rate\n",
    "    })\n",
    "    \n",
    "    current_time = time.strftime(\"%H:%M:%S\", time.localtime())\n",
    "    print(f\"{qubits} qubits done at: {current_time}\")\n",
    "    \n",
    "current_time = time.strftime(\"%H:%M:%S\", time.localtime())\n",
    "print(f\"Finished: {current_time}\")"
   ]
  },
  {
   "cell_type": "code",
   "execution_count": 6,
   "id": "f2c8babc-e00e-4f3b-aa4c-4903b548f348",
   "metadata": {},
   "outputs": [],
   "source": [
    "df = pd.DataFrame(results)\n",
    "\n",
    "# Save the DataFrame to a txt file\n",
    "df.to_csv('qkd_results_simulator.txt', index=False)"
   ]
  },
  {
   "cell_type": "code",
   "execution_count": null,
   "id": "a92ab2a3-f303-4fb3-9a42-e91a401d4351",
   "metadata": {},
   "outputs": [],
   "source": []
  }
 ],
 "metadata": {
  "kernelspec": {
   "display_name": "Qiskit v1.0.2 (ipykernel)",
   "language": "python",
   "name": "python3"
  },
  "language_info": {
   "codemirror_mode": {
    "name": "ipython",
    "version": 3
   },
   "file_extension": ".py",
   "mimetype": "text/x-python",
   "name": "python",
   "nbconvert_exporter": "python",
   "pygments_lexer": "ipython3",
   "version": "3.10.8"
  },
  "widgets": {
   "application/vnd.jupyter.widget-state+json": {
    "state": {},
    "version_major": 2,
    "version_minor": 0
   }
  }
 },
 "nbformat": 4,
 "nbformat_minor": 5
}
